{
 "cells": [
  {
   "cell_type": "code",
   "execution_count": 1,
   "id": "superior-bread",
   "metadata": {},
   "outputs": [
    {
     "name": "stdout",
     "output_type": "stream",
     "text": [
      "Not there yet, x=0\n",
      "Not there yet, x=1\n",
      "Not there yet, x=2\n",
      "Not there yet, x=3\n",
      "Not there yet, x=4\n",
      "x=5\n"
     ]
    }
   ],
   "source": [
    "#while loop\n",
    "x = 0\n",
    "while x < 5:\n",
    "    print(\"Not there yet, x=\" + str(x))\n",
    "    x = x + 1\n",
    "print(\"x=\" + str(x))"
   ]
  },
  {
   "cell_type": "code",
   "execution_count": 2,
   "id": "associate-telephone",
   "metadata": {},
   "outputs": [],
   "source": [
    "def attempts(n):\n",
    "    x = 1\n",
    "    while x <= n:\n",
    "        print(\"Attempt \" + str(x))\n",
    "        x = x + 1\n",
    "    print(\"Done\")"
   ]
  },
  {
   "cell_type": "code",
   "execution_count": 3,
   "id": "afraid-breach",
   "metadata": {},
   "outputs": [
    {
     "name": "stdout",
     "output_type": "stream",
     "text": [
      "Attempt 1\n",
      "Attempt 2\n",
      "Attempt 3\n",
      "Attempt 4\n",
      "Attempt 5\n",
      "Done\n"
     ]
    }
   ],
   "source": [
    "attempts(5)"
   ]
  },
  {
   "cell_type": "code",
   "execution_count": 8,
   "id": "opposed-campaign",
   "metadata": {},
   "outputs": [
    {
     "name": "stdout",
     "output_type": "stream",
     "text": [
      "45 10\n"
     ]
    }
   ],
   "source": [
    "x = 1\n",
    "sum = 0\n",
    "while x < 10:\n",
    "    sum = sum + x\n",
    "    x = x + 1\n",
    "print(sum, x)"
   ]
  },
  {
   "cell_type": "code",
   "execution_count": 9,
   "id": "visible-cable",
   "metadata": {},
   "outputs": [],
   "source": [
    "if x != 0:\n",
    "    while x % 2 == 0:\n",
    "        x = x/2"
   ]
  },
  {
   "cell_type": "code",
   "execution_count": 10,
   "id": "dressed-sapphire",
   "metadata": {},
   "outputs": [],
   "source": [
    "while x != 0 and x % 2 == 0:\n",
    "    x = x/2"
   ]
  },
  {
   "cell_type": "code",
   "execution_count": 41,
   "id": "standard-eleven",
   "metadata": {},
   "outputs": [
    {
     "name": "stdout",
     "output_type": "stream",
     "text": [
      "False\n",
      "True\n",
      "True\n",
      "False\n"
     ]
    }
   ],
   "source": [
    "#The following code can lead to an infinite loop. Fix the code so \n",
    "#that it can finish successfully for all numbers.\n",
    "#Note: Try running your function with the number 0 as the input, and see what you get!\n",
    "def is_power_of_two(n):\n",
    "  # Check if the number can be divided by two without a remainder\n",
    "  while n % 2 == 0:\n",
    "        if n == 0:\n",
    "            break;\n",
    "        n = n / 2\n",
    "  # If after dividing by two the number is 1, it's a power of two\n",
    "  if n == 1:\n",
    "    return True\n",
    "  return False\n",
    "  \n",
    "\n",
    "print(is_power_of_two(0)) # Should be False\n",
    "print(is_power_of_two(1)) # Should be True\n",
    "print(is_power_of_two(8)) # Should be True\n",
    "print(is_power_of_two(9)) # Should be False"
   ]
  },
  {
   "cell_type": "code",
   "execution_count": 11,
   "id": "tracked-sigma",
   "metadata": {
    "scrolled": true
   },
   "outputs": [
    {
     "name": "stdout",
     "output_type": "stream",
     "text": [
      "2\n",
      "2\n",
      "5\n",
      "5\n"
     ]
    },
    {
     "data": {
      "text/plain": [
       "'Done'"
      ]
     },
     "execution_count": 11,
     "metadata": {},
     "output_type": "execute_result"
    }
   ],
   "source": [
    "#Fill in the blanks to make the print_prime_factors function print all the prime factors of a number.\n",
    "#A prime factor is a number that is prime and divides another without a remainder.\n",
    "def print_prime_factors(number):\n",
    "  # Start with two, which is the first prime\n",
    "  factor = 2\n",
    "  # Keep going until the factor is larger than the number\n",
    "  while factor <= number:\n",
    "    # Check if factor is a divisor of number\n",
    "    if number % factor == 0:\n",
    "      # If it is, print it and divide the original number\n",
    "      print(factor)\n",
    "      number = number / factor\n",
    "    else:\n",
    "      # If it's not, increment the factor by one\n",
    "      factor += 1\n",
    "  return \"Done\"\n",
    "\n",
    "print_prime_factors(100)\n",
    "# Should print 2,2,5,5\n",
    "# DO NOT DELETE THIS COMME\n"
   ]
  },
  {
   "cell_type": "code",
   "execution_count": 39,
   "id": "infrared-poison",
   "metadata": {
    "scrolled": true
   },
   "outputs": [
    {
     "name": "stdout",
     "output_type": "stream",
     "text": [
      "0\n",
      "1\n",
      "55\n",
      "114\n"
     ]
    }
   ],
   "source": [
    "#Question 4\n",
    "#Fill in the empty function so that it returns the sum of all the divisors \n",
    "#of a number, without including it. A divisor is a number that divides into\n",
    "#another without a remainder.\n",
    "def sum_divisors(n):\n",
    "    sum = 0\n",
    "    div = 1\n",
    "    while div < n:\n",
    "        if n == 0:\n",
    "            return 0\n",
    "        elif n % div == 0:\n",
    "            sum = sum + div\n",
    "            div = div + 1\n",
    "        else:\n",
    "            div += 1\n",
    "  # Return the sum of all divisors of n, not including n\n",
    "    return sum\n",
    "\n",
    "print(sum_divisors(0))\n",
    "# 0\n",
    "print(sum_divisors(3)) # Should sum of 1\n",
    "# 1\n",
    "print(sum_divisors(36)) # Should sum of 1+2+3+4+6+9+12+18\n",
    "# 55\n",
    "print(sum_divisors(102)) # Should be sum of 2+3+6+17+34+51\n",
    "# 114\n"
   ]
  },
  {
   "cell_type": "code",
   "execution_count": 37,
   "id": "fatal-election",
   "metadata": {},
   "outputs": [
    {
     "name": "stdout",
     "output_type": "stream",
     "text": [
      "7\n"
     ]
    }
   ],
   "source": [
    "print(sum_divisors(8))"
   ]
  },
  {
   "cell_type": "markdown",
   "id": "arctic-optimum",
   "metadata": {},
   "source": [
    "**The multiplication_table function prints the results of a number passed to it multiplied by 1 through 5. An additional requirement is that the result is not to exceed 25, which is done with the break statement. Fill in the blanks to complete the function to satisfy these conditions.**"
   ]
  },
  {
   "cell_type": "code",
   "execution_count": 40,
   "id": "everyday-dressing",
   "metadata": {
    "scrolled": true
   },
   "outputs": [
    {
     "name": "stdout",
     "output_type": "stream",
     "text": [
      "3x1=3\n",
      "3x2=6\n",
      "3x3=9\n",
      "3x4=12\n",
      "3x5=15\n",
      "5x1=5\n",
      "5x2=10\n",
      "5x3=15\n",
      "5x4=20\n",
      "5x5=25\n",
      "8x1=8\n",
      "8x2=16\n",
      "8x3=24\n"
     ]
    }
   ],
   "source": [
    "def multiplication_table(number):\n",
    "\t# Initialize the starting point of the multiplication table\n",
    "\tmultiplier = 1\n",
    "\t# Only want to loop through 5\n",
    "\twhile multiplier <= 5:\n",
    "\t\tresult = number * multiplier\n",
    "\t\t# What is the additional condition to exit out of the loop?\n",
    "\t\tif result > 25:\n",
    "\t\t\tbreak\n",
    "\t\tprint(str(number) + \"x\" + str(multiplier) + \"=\" + str(result))\n",
    "\t\t# Increment the variable for the loop\n",
    "\t\tmultiplier += 1\n",
    "\n",
    "multiplication_table(3) \n",
    "# Should print: 3x1=3 3x2=6 3x3=9 3x4=12 3x5=15\n",
    "\n",
    "multiplication_table(5) \n",
    "# Should print: 5x1=5 5x2=10 5x3=15 5x4=20 5x5=25\n",
    "\n",
    "multiplication_table(8)\t\n",
    "# Should print: 8x1=8 8x2=16 8x3=24"
   ]
  },
  {
   "cell_type": "code",
   "execution_count": 57,
   "id": "becoming-minneapolis",
   "metadata": {},
   "outputs": [
    {
     "name": "stdout",
     "output_type": "stream",
     "text": [
      "0\n",
      "1\n",
      "4\n",
      "9\n",
      "16\n"
     ]
    }
   ],
   "source": [
    "def square(number):\n",
    "    return number * number\n",
    "for x in range(5):\n",
    "    print(square(x))"
   ]
  },
  {
   "cell_type": "code",
   "execution_count": 42,
   "id": "labeled-cheat",
   "metadata": {},
   "outputs": [
    {
     "name": "stdout",
     "output_type": "stream",
     "text": [
      "0\n",
      "1\n",
      "2\n",
      "3\n",
      "4\n"
     ]
    }
   ],
   "source": [
    "for x in range(5):\n",
    "    print(x)"
   ]
  },
  {
   "cell_type": "code",
   "execution_count": 62,
   "id": "private-pastor",
   "metadata": {},
   "outputs": [
    {
     "name": "stdout",
     "output_type": "stream",
     "text": [
      "Total sum: 219 - Average: 43.8\n"
     ]
    }
   ],
   "source": [
    "values = [23, 52, 59, 37, 48]\n",
    "sum = 0\n",
    "length = 0\n",
    "\n",
    "for value in values:\n",
    "    sum += value\n",
    "    length += 1\n",
    "print(\"Total sum: \" + str(sum) + \" - Average: \" + str(sum/length))"
   ]
  },
  {
   "cell_type": "code",
   "execution_count": 63,
   "id": "assumed-switzerland",
   "metadata": {},
   "outputs": [
    {
     "name": "stdout",
     "output_type": "stream",
     "text": [
      "362880\n"
     ]
    }
   ],
   "source": [
    "#range\n",
    "product = 1\n",
    "for n in range(1,10):\n",
    "    product = product * n\n",
    "\n",
    "print(product)"
   ]
  },
  {
   "cell_type": "code",
   "execution_count": 66,
   "id": "neither-chase",
   "metadata": {},
   "outputs": [
    {
     "name": "stdout",
     "output_type": "stream",
     "text": [
      "0 -17.77777777777778\n",
      "10 -12.222222222222221\n",
      "20 -6.666666666666667\n",
      "30 -1.1111111111111112\n",
      "40 4.444444444444445\n",
      "50 10.0\n",
      "60 15.555555555555555\n",
      "70 21.11111111111111\n",
      "80 26.666666666666668\n",
      "90 32.22222222222222\n",
      "100 37.77777777777778\n"
     ]
    }
   ],
   "source": [
    "def to_celsius(x):\n",
    "    return(x - 32)*5/9\n",
    "for x in range(0,101,10):\n",
    "    print(x, to_celsius(x))"
   ]
  },
  {
   "cell_type": "code",
   "execution_count": 71,
   "id": "nonprofit-strength",
   "metadata": {},
   "outputs": [
    {
     "name": "stdout",
     "output_type": "stream",
     "text": [
      "[0|0] [0|1] [0|2] [0|3] [0|4] [0|5] [0|6] \n",
      "[1|1] [1|2] [1|3] [1|4] [1|5] [1|6] \n",
      "[2|2] [2|3] [2|4] [2|5] [2|6] \n",
      "[3|3] [3|4] [3|5] [3|6] \n",
      "[4|4] [4|5] [4|6] \n",
      "[5|5] [5|6] \n",
      "[6|6] \n"
     ]
    }
   ],
   "source": [
    "#Nexted for loop\n",
    "for left in range(7):\n",
    "    for right in range(left,7):\n",
    "        print(\"[\" + str(left) + \"|\" + str(right) + \"]\",end = \" \")\n",
    "    print()"
   ]
  },
  {
   "cell_type": "code",
   "execution_count": 82,
   "id": "fitted-heart",
   "metadata": {},
   "outputs": [
    {
     "name": "stdout",
     "output_type": "stream",
     "text": [
      "Dragons vs Wolves\n",
      "Dragons vs Pandas\n",
      "Dragons vs Unicorns\n",
      "Wolves vs Dragons\n",
      "Wolves vs Pandas\n",
      "Wolves vs Unicorns\n",
      "Pandas vs Dragons\n",
      "Pandas vs Wolves\n",
      "Pandas vs Unicorns\n",
      "Unicorns vs Dragons\n",
      "Unicorns vs Wolves\n",
      "Unicorns vs Pandas\n"
     ]
    }
   ],
   "source": [
    "teams = [\"Dragons\", \"Wolves\", \"Pandas\", \"Unicorns\"]\n",
    "for home_team in teams:\n",
    "    for away_team in teams:\n",
    "        if home_team != away_team:\n",
    "            print(home_team + \" vs \" + away_team)\n",
    "\n",
    "    "
   ]
  },
  {
   "cell_type": "code",
   "execution_count": 83,
   "id": "terminal-photography",
   "metadata": {
    "scrolled": true
   },
   "outputs": [
    {
     "ename": "TypeError",
     "evalue": "'int' object is not iterable",
     "output_type": "error",
     "traceback": [
      "\u001b[1;31m---------------------------------------------------------------------------\u001b[0m",
      "\u001b[1;31mTypeError\u001b[0m                                 Traceback (most recent call last)",
      "\u001b[1;32m<ipython-input-83-b556cd019809>\u001b[0m in \u001b[0;36m<module>\u001b[1;34m()\u001b[0m\n\u001b[1;32m----> 1\u001b[1;33m \u001b[1;32mfor\u001b[0m \u001b[0mx\u001b[0m \u001b[1;32min\u001b[0m \u001b[1;36m25\u001b[0m\u001b[1;33m:\u001b[0m\u001b[1;33m\u001b[0m\u001b[0m\n\u001b[0m\u001b[0;32m      2\u001b[0m     \u001b[0mprint\u001b[0m\u001b[1;33m(\u001b[0m\u001b[0mx\u001b[0m\u001b[1;33m)\u001b[0m\u001b[1;33m\u001b[0m\u001b[0m\n",
      "\u001b[1;31mTypeError\u001b[0m: 'int' object is not iterable"
     ]
    }
   ],
   "source": [
    "for x in 25:\n",
    "    print(x)"
   ]
  },
  {
   "cell_type": "code",
   "execution_count": 84,
   "id": "short-collectible",
   "metadata": {},
   "outputs": [
    {
     "name": "stdout",
     "output_type": "stream",
     "text": [
      "0\n",
      "1\n",
      "2\n",
      "3\n",
      "4\n",
      "5\n",
      "6\n",
      "7\n",
      "8\n",
      "9\n",
      "10\n",
      "11\n",
      "12\n",
      "13\n",
      "14\n",
      "15\n",
      "16\n",
      "17\n",
      "18\n",
      "19\n",
      "20\n",
      "21\n",
      "22\n",
      "23\n",
      "24\n"
     ]
    }
   ],
   "source": [
    "for x in range(25):\n",
    "    print(x)"
   ]
  },
  {
   "cell_type": "code",
   "execution_count": 85,
   "id": "dedicated-blake",
   "metadata": {},
   "outputs": [
    {
     "name": "stdout",
     "output_type": "stream",
     "text": [
      "25\n"
     ]
    }
   ],
   "source": [
    "for x in [25]:\n",
    "    print(x)"
   ]
  },
  {
   "cell_type": "code",
   "execution_count": 88,
   "id": "better-degree",
   "metadata": {},
   "outputs": [],
   "source": [
    "def greet_friends(friends):\n",
    "    for friend in friends:\n",
    "        print(\"Hi \" + friend)"
   ]
  },
  {
   "cell_type": "code",
   "execution_count": 89,
   "id": "written-ghana",
   "metadata": {},
   "outputs": [
    {
     "name": "stdout",
     "output_type": "stream",
     "text": [
      "Hi Taylor\n",
      "Hi Luisa\n",
      "Hi Jamaal\n",
      "Hi Eli\n"
     ]
    }
   ],
   "source": [
    "greet_friends(['Taylor', 'Luisa', 'Jamaal', 'Eli'])"
   ]
  },
  {
   "cell_type": "markdown",
   "id": "controversial-projector",
   "metadata": {},
   "source": [
    "Question 2\n",
    "- Fill in the blanks to make the factorial function return the factorial of n.\n",
    "- Then, print the first 10 factorials (from 0 to 9) with the corresponding number.\n",
    "- Remember that the factorial of a number is defined as the product of an integer and all integers before it. For example, the factorial of five (5!) is equal to 1*2*3*4*5=120. Also recall that the factorial of zero (0!) is equal to 1."
   ]
  },
  {
   "cell_type": "code",
   "execution_count": 90,
   "id": "configured-poverty",
   "metadata": {
    "scrolled": true
   },
   "outputs": [
    {
     "name": "stdout",
     "output_type": "stream",
     "text": [
      "1 1\n",
      "2 2\n",
      "3 6\n",
      "4 24\n",
      "5 120\n",
      "6 720\n",
      "7 5040\n",
      "8 40320\n",
      "9 362880\n",
      "10 3628800\n"
     ]
    }
   ],
   "source": [
    "def factorial(n):\n",
    "    result = 1\n",
    "    for x in range(1,n):\n",
    "        result = result*x\n",
    "    return result\n",
    "\n",
    "for n in range(1,11):\n",
    "    print(n, factorial(n+1))"
   ]
  },
  {
   "cell_type": "code",
   "execution_count": 97,
   "id": "checked-round",
   "metadata": {
    "scrolled": true
   },
   "outputs": [
    {
     "name": "stdout",
     "output_type": "stream",
     "text": [
      "1 = 1\n",
      "2 = 8\n",
      "3 = 27\n",
      "4 = 64\n",
      "5 = 125\n",
      "6 = 216\n",
      "7 = 343\n",
      "8 = 512\n",
      "9 = 729\n",
      "10 = 1000\n"
     ]
    }
   ],
   "source": [
    "#Question 3\n",
    "#Write a script that prints the first 10 cube numbers (x**3), starting with x=1 and ending with x=10.\n",
    "for x in range(1,11):\n",
    "  print(x ,\"=\", x ** 3)\n"
   ]
  },
  {
   "cell_type": "markdown",
   "id": "coordinated-marking",
   "metadata": {},
   "source": [
    "Write a script that prints the multiples of 7 between 0 and 100. Print one multiple per line and avoid printing any numbers that aren't multiples of 7. Remember that 0 is also a multiple of 7."
   ]
  },
  {
   "cell_type": "code",
   "execution_count": 103,
   "id": "thousand-context",
   "metadata": {
    "scrolled": true
   },
   "outputs": [
    {
     "name": "stdout",
     "output_type": "stream",
     "text": [
      "0\n",
      "7\n",
      "14\n",
      "21\n",
      "28\n",
      "35\n",
      "42\n",
      "49\n",
      "56\n",
      "63\n",
      "70\n",
      "77\n",
      "84\n",
      "91\n",
      "98\n"
     ]
    }
   ],
   "source": [
    "for number in range(0, 101, 7):\n",
    "    print(number)"
   ]
  },
  {
   "cell_type": "code",
   "execution_count": 118,
   "id": "rapid-thompson",
   "metadata": {},
   "outputs": [
    {
     "ename": "NameError",
     "evalue": "name 'create_user' is not defined",
     "output_type": "error",
     "traceback": [
      "\u001b[1;31m---------------------------------------------------------------------------\u001b[0m",
      "\u001b[1;31mNameError\u001b[0m                                 Traceback (most recent call last)",
      "\u001b[1;32m<ipython-input-118-322c3af3d2dc>\u001b[0m in \u001b[0;36m<module>\u001b[1;34m()\u001b[0m\n\u001b[0;32m      7\u001b[0m       \u001b[0mprint\u001b[0m\u001b[1;33m(\u001b[0m\u001b[1;34m\"Attempt \"\u001b[0m \u001b[1;33m+\u001b[0m \u001b[0mstr\u001b[0m\u001b[1;33m(\u001b[0m\u001b[0mn\u001b[0m\u001b[1;33m)\u001b[0m \u001b[1;33m+\u001b[0m \u001b[1;34m\" failed\"\u001b[0m\u001b[1;33m)\u001b[0m\u001b[1;33m\u001b[0m\u001b[0m\n\u001b[0;32m      8\u001b[0m \u001b[1;33m\u001b[0m\u001b[0m\n\u001b[1;32m----> 9\u001b[1;33m \u001b[0mretry\u001b[0m\u001b[1;33m(\u001b[0m\u001b[0mcreate_user\u001b[0m\u001b[1;33m,\u001b[0m \u001b[1;36m3\u001b[0m\u001b[1;33m)\u001b[0m\u001b[1;33m\u001b[0m\u001b[0m\n\u001b[0m\u001b[0;32m     10\u001b[0m \u001b[0mretry\u001b[0m\u001b[1;33m(\u001b[0m\u001b[0mstop_service\u001b[0m\u001b[1;33m,\u001b[0m \u001b[1;36m5\u001b[0m\u001b[1;33m)\u001b[0m\u001b[1;33m\u001b[0m\u001b[0m\n",
      "\u001b[1;31mNameError\u001b[0m: name 'create_user' is not defined"
     ]
    }
   ],
   "source": [
    "def retry(operation, attempts):\n",
    "  for n in range(attempts):\n",
    "    if operation():\n",
    "      print(\"Attempt \" + str(n) + \" succeeded\")\n",
    "      break\n",
    "    else:\n",
    "      print(\"Attempt \" + str(n) + \" failed\")\n",
    "\n",
    "retry(create_user, 3)\n",
    "retry(stop_service, 5)"
   ]
  },
  {
   "cell_type": "code",
   "execution_count": 131,
   "id": "timely-desktop",
   "metadata": {},
   "outputs": [],
   "source": [
    "# Recursion\n",
    "def factorial(n):\n",
    "    print(\"Factorial called with \" + str(n))\n",
    "    if n < 2:\n",
    "        print(\"Returning 1\")\n",
    "        return 1\n",
    "    result = n * factorial(n - 1) #recursive case\n",
    "    print(\"Reurning \" + str(result) + \" for factorial of \" + str(n))\n",
    "    return result\n"
   ]
  },
  {
   "cell_type": "code",
   "execution_count": 132,
   "id": "aboriginal-moses",
   "metadata": {},
   "outputs": [
    {
     "name": "stdout",
     "output_type": "stream",
     "text": [
      "Factorial called with 4\n",
      "Factorial called with 3\n",
      "Factorial called with 2\n",
      "Factorial called with 1\n",
      "Returning 1\n",
      "Reurning 2 for factorial of 2\n",
      "Reurning 6 for factorial of 3\n",
      "Reurning 24 for factorial of 4\n"
     ]
    },
    {
     "data": {
      "text/plain": [
       "24"
      ]
     },
     "execution_count": 132,
     "metadata": {},
     "output_type": "execute_result"
    }
   ],
   "source": [
    "factorial(4)"
   ]
  },
  {
   "cell_type": "markdown",
   "id": "another-compatibility",
   "metadata": {},
   "source": [
    "Fill in the blanks to make the is_power_of function return whether the number is a power of the given base. Note: base is assumed to be a positive number. Tip: for functions that return a boolean value, you can return the result of a comparison."
   ]
  },
  {
   "cell_type": "code",
   "execution_count": 140,
   "id": "urban-istanbul",
   "metadata": {
    "scrolled": true
   },
   "outputs": [
    {
     "name": "stdout",
     "output_type": "stream",
     "text": [
      "True\n",
      "True\n",
      "False\n"
     ]
    }
   ],
   "source": [
    "def is_power_of(number, base):\n",
    "  # Base case: when number is smaller than base.\n",
    "  if number < base:\n",
    "    # If number is equal to 1, it's a power (base**0).\n",
    "    return number == 1\n",
    "  result = number / base\n",
    "\n",
    "  # Recursive case: keep dividing number by base.\n",
    "  return is_power_of(result, base)\n",
    "\n",
    "print(is_power_of(8,2)) # Should be True\n",
    "print(is_power_of(64,4)) # Should be True\n",
    "print(is_power_of(70,10)) # Should be False"
   ]
  },
  {
   "cell_type": "markdown",
   "id": "brutal-description",
   "metadata": {},
   "source": [
    "The count_users function recursively counts the amount of users that belong to a group in the company system, by going through each of the members of a group and if one of them is a group, recursively calling the function and counting the members. But it has a bug! Can you spot the problem and fix it?"
   ]
  },
  {
   "cell_type": "code",
   "execution_count": 141,
   "id": "level-bradley",
   "metadata": {},
   "outputs": [
    {
     "ename": "NameError",
     "evalue": "name 'get_members' is not defined",
     "output_type": "error",
     "traceback": [
      "\u001b[1;31m---------------------------------------------------------------------------\u001b[0m",
      "\u001b[1;31mNameError\u001b[0m                                 Traceback (most recent call last)",
      "\u001b[1;32m<ipython-input-141-2d5b06e65ce2>\u001b[0m in \u001b[0;36m<module>\u001b[1;34m()\u001b[0m\n\u001b[0;32m      7\u001b[0m   \u001b[1;32mreturn\u001b[0m \u001b[0mcount\u001b[0m\u001b[1;33m\u001b[0m\u001b[0m\n\u001b[0;32m      8\u001b[0m \u001b[1;33m\u001b[0m\u001b[0m\n\u001b[1;32m----> 9\u001b[1;33m \u001b[0mprint\u001b[0m\u001b[1;33m(\u001b[0m\u001b[0mcount_users\u001b[0m\u001b[1;33m(\u001b[0m\u001b[1;34m\"sales\"\u001b[0m\u001b[1;33m)\u001b[0m\u001b[1;33m)\u001b[0m \u001b[1;31m# Should be 3\u001b[0m\u001b[1;33m\u001b[0m\u001b[0m\n\u001b[0m\u001b[0;32m     10\u001b[0m \u001b[0mprint\u001b[0m\u001b[1;33m(\u001b[0m\u001b[0mcount_users\u001b[0m\u001b[1;33m(\u001b[0m\u001b[1;34m\"engineering\"\u001b[0m\u001b[1;33m)\u001b[0m\u001b[1;33m)\u001b[0m \u001b[1;31m# Should be 8\u001b[0m\u001b[1;33m\u001b[0m\u001b[0m\n\u001b[0;32m     11\u001b[0m \u001b[0mprint\u001b[0m\u001b[1;33m(\u001b[0m\u001b[0mcount_users\u001b[0m\u001b[1;33m(\u001b[0m\u001b[1;34m\"everyone\"\u001b[0m\u001b[1;33m)\u001b[0m\u001b[1;33m)\u001b[0m \u001b[1;31m# Should be 18\u001b[0m\u001b[1;33m\u001b[0m\u001b[0m\n",
      "\u001b[1;32m<ipython-input-141-2d5b06e65ce2>\u001b[0m in \u001b[0;36mcount_users\u001b[1;34m(group)\u001b[0m\n\u001b[0;32m      1\u001b[0m \u001b[1;32mdef\u001b[0m \u001b[0mcount_users\u001b[0m\u001b[1;33m(\u001b[0m\u001b[0mgroup\u001b[0m\u001b[1;33m)\u001b[0m\u001b[1;33m:\u001b[0m\u001b[1;33m\u001b[0m\u001b[0m\n\u001b[0;32m      2\u001b[0m   \u001b[0mcount\u001b[0m \u001b[1;33m=\u001b[0m \u001b[1;36m0\u001b[0m\u001b[1;33m\u001b[0m\u001b[0m\n\u001b[1;32m----> 3\u001b[1;33m   \u001b[1;32mfor\u001b[0m \u001b[0mmember\u001b[0m \u001b[1;32min\u001b[0m \u001b[0mget_members\u001b[0m\u001b[1;33m(\u001b[0m\u001b[0mgroup\u001b[0m\u001b[1;33m)\u001b[0m\u001b[1;33m:\u001b[0m\u001b[1;33m\u001b[0m\u001b[0m\n\u001b[0m\u001b[0;32m      4\u001b[0m     \u001b[0mcount\u001b[0m \u001b[1;33m+=\u001b[0m \u001b[1;36m1\u001b[0m\u001b[1;33m\u001b[0m\u001b[0m\n\u001b[0;32m      5\u001b[0m     \u001b[1;32mif\u001b[0m \u001b[0mis_group\u001b[0m\u001b[1;33m(\u001b[0m\u001b[0mmember\u001b[0m\u001b[1;33m)\u001b[0m\u001b[1;33m:\u001b[0m\u001b[1;33m\u001b[0m\u001b[0m\n",
      "\u001b[1;31mNameError\u001b[0m: name 'get_members' is not defined"
     ]
    }
   ],
   "source": [
    "def count_users(group):\n",
    "  count = 0\n",
    "  for member in get_members(group):\n",
    "    count += 1\n",
    "    if is_group(member):\n",
    "      count += count_users(member)\n",
    "  return count\n",
    "\n",
    "print(count_users(\"sales\")) # Should be 3\n",
    "print(count_users(\"engineering\")) # Should be 8\n",
    "print(count_users(\"everyone\")) # Should be 18"
   ]
  },
  {
   "cell_type": "markdown",
   "id": "entitled-result",
   "metadata": {},
   "source": [
    "Question 5\n",
    "Implement the sum_positive_numbers function, as a recursive function that returns the sum of all positive numbers between the number n received and 1. For example, when n is 3 it should return 1+2+3=6, and when n is 5 it should return 1+2+3+4+5=15."
   ]
  },
  {
   "cell_type": "code",
   "execution_count": 168,
   "id": "ruled-sunset",
   "metadata": {},
   "outputs": [
    {
     "name": "stdout",
     "output_type": "stream",
     "text": [
      "6\n",
      "15\n"
     ]
    }
   ],
   "source": [
    "    def sum_positive_numbers(n):\n",
    "        if n <= 1:\n",
    "            return n\n",
    "        else:\n",
    "            return n + sum_positive_numbers(n - 1)\n",
    "\n",
    "\n",
    "    print(sum_positive_numbers(3)) # Should be 6\n",
    "    print(sum_positive_numbers(5)) # Should be 15"
   ]
  },
  {
   "cell_type": "code",
   "execution_count": 187,
   "id": "manual-manual",
   "metadata": {},
   "outputs": [
    {
     "name": "stdout",
     "output_type": "stream",
     "text": [
      "1 2 3 4 5 6 7 "
     ]
    }
   ],
   "source": [
    "number = 0\n",
    "while number < 7:\n",
    "    number = number + 1\n",
    "    print(number, end=\" \")\n",
    "    \n"
   ]
  },
  {
   "cell_type": "raw",
   "id": "extended-pollution",
   "metadata": {},
   "source": [
    "Question 2\n",
    "The show_letters function should print out each letter of a word on a separate line. Fill in the blanks to make that happen."
   ]
  },
  {
   "cell_type": "code",
   "execution_count": 14,
   "id": "liquid-association",
   "metadata": {},
   "outputs": [
    {
     "name": "stdout",
     "output_type": "stream",
     "text": [
      "H\n",
      "e\n",
      "l\n",
      "l\n",
      "o\n"
     ]
    }
   ],
   "source": [
    "def show_letters(word):\n",
    "\tfor x in (word):\n",
    "\t\tprint(x)\n",
    "\n",
    "show_letters(\"Hello\")\n",
    "# Should print one line per letter"
   ]
  },
  {
   "cell_type": "code",
   "execution_count": 9,
   "id": "dress-pollution",
   "metadata": {},
   "outputs": [],
   "source": [
    "#Question 1\n",
    "#Fill in the blanks of this code to print out the numbers 1 through 7.\n",
    "number = 1\n",
    "while number > 7:\n",
    "\tprint(number, end=\" \")\n",
    "\t"
   ]
  },
  {
   "cell_type": "raw",
   "id": "material-paragraph",
   "metadata": {},
   "source": [
    "Complete the function digits(n) that returns how many digits the number has. For example: 25 has 2 digits and 144 has 3 digits. Tip: you can figure out the digits of a number by dividing it by 10 once per digit until there are no digits left."
   ]
  },
  {
   "cell_type": "code",
   "execution_count": 27,
   "id": "responsible-tribute",
   "metadata": {},
   "outputs": [
    {
     "name": "stdout",
     "output_type": "stream",
     "text": [
      "2\n",
      "3\n",
      "4\n",
      "1\n"
     ]
    }
   ],
   "source": [
    "def digits(n):\n",
    "\tcount = 0\n",
    "\tif n == 0:\n",
    "\t  return 1\n",
    "\twhile (n > 0):\n",
    "\t\tcount += 1\n",
    "\t\tn = n // 10\n",
    "\treturn count\n",
    "\t\n",
    "print(digits(25))   # Should print 2\n",
    "print(digits(144))  # Should print 3\n",
    "print(digits(1000)) # Should print 4\n",
    "print(digits(0))    # Should print 1"
   ]
  },
  {
   "cell_type": "raw",
   "id": "female-television",
   "metadata": {},
   "source": [
    "Question 4\n",
    "This function prints out a multiplication table (where each number is the result of multiplying the first number of its row by the number at the top of its column). Fill in the blanks so that calling multiplication_table(1, 3) will print out:\n",
    "\n",
    "1 2 3 \n",
    "\n",
    "2 4 6 \n",
    "\n",
    "3 6 9"
   ]
  },
  {
   "cell_type": "code",
   "execution_count": 29,
   "id": "mechanical-square",
   "metadata": {},
   "outputs": [
    {
     "name": "stdout",
     "output_type": "stream",
     "text": [
      "1 2 3 \n",
      "2 4 6 \n",
      "3 6 9 \n"
     ]
    }
   ],
   "source": [
    "def multiplication_table(start, stop):\n",
    "\tfor x in range(1,4):\n",
    "\t\tfor y in range(1,4):\n",
    "\t\t\tprint(str(x*y), end=\" \")\n",
    "\t\tprint()\n",
    "\n",
    "multiplication_table(1, 3)\n",
    "# Should print the multiplication table shown above"
   ]
  },
  {
   "cell_type": "raw",
   "id": "handmade-constraint",
   "metadata": {},
   "source": [
    "The counter function counts down from start to stop when start is bigger than stop, and counts up from start to stop otherwise. Fill in the blanks to make this work correctly.\n",
    "\n",
    "1 point\n"
   ]
  },
  {
   "cell_type": "code",
   "execution_count": 117,
   "id": "suitable-oregon",
   "metadata": {},
   "outputs": [
    {
     "name": "stdout",
     "output_type": "stream",
     "text": [
      "Counting up: 1,2,3,4,5,6,7,8,9,10\n",
      "Counting down: 2,1\n",
      "Counting up: 5\n"
     ]
    }
   ],
   "source": [
    "def counter(start, stop):\n",
    "\tx = start\n",
    "\tif start > stop:\n",
    "\t\treturn_string = \"Counting down: \"\n",
    "\t\twhile x >= stop:\n",
    "\t\t\treturn_string += str(x)\n",
    "\t\t\tif stop < x:\n",
    "\t\t\t\treturn_string += \",\"\n",
    "\t\t\tx -= 1\n",
    "\telse:\n",
    "\t\treturn_string = \"Counting up: \"\n",
    "\t\twhile x <= stop:\n",
    "\t\t\treturn_string += str(x)\n",
    "\t\t\tif stop > x:\n",
    "\t\t\t\treturn_string += \",\"\n",
    "\t\t\tx += 1\n",
    "\treturn return_string\n",
    "\n",
    "print(counter(1, 10)) # Should be \"Counting up: 1,2,3,4,5,6,7,8,9,10\"\n",
    "print(counter(2, 1)) # Should be \"Counting down: 2,1\"\n",
    "print(counter(5, 5)) # Should be \"Counting up: 5\""
   ]
  },
  {
   "cell_type": "code",
   "execution_count": 39,
   "id": "facial-hungarian",
   "metadata": {},
   "outputs": [
    {
     "name": "stdout",
     "output_type": "stream",
     "text": [
      "10\n",
      "9\n",
      "8\n",
      "7\n",
      "6\n",
      "5\n",
      "4\n"
     ]
    }
   ],
   "source": [
    "c = 10\n",
    "while c > 3:\n",
    "    print(c)\n",
    "    c -= 1"
   ]
  },
  {
   "cell_type": "raw",
   "id": "round-carpet",
   "metadata": {},
   "source": [
    "The even_numbers function returns a space-separated string of all positive numbers that are divisible by 2, up to and including the maximum that's passed into the function. For example, even_numbers(6) returns “2 4 6”. Fill in the blank to make this work."
   ]
  },
  {
   "cell_type": "code",
   "execution_count": 67,
   "id": "charged-adrian",
   "metadata": {},
   "outputs": [
    {
     "ename": "TabError",
     "evalue": "inconsistent use of tabs and spaces in indentation (<ipython-input-67-d42a7750d11f>, line 4)",
     "output_type": "error",
     "traceback": [
      "\u001b[1;36m  File \u001b[1;32m\"<ipython-input-67-d42a7750d11f>\"\u001b[1;36m, line \u001b[1;32m4\u001b[0m\n\u001b[1;33m    if x %  2 == 0:\u001b[0m\n\u001b[1;37m                   ^\u001b[0m\n\u001b[1;31mTabError\u001b[0m\u001b[1;31m:\u001b[0m inconsistent use of tabs and spaces in indentation\n"
     ]
    }
   ],
   "source": [
    "def even_numbers(maximum):\n",
    "\treturn_string = \"\"\n",
    "\tfor x in range(maximum):\n",
    "        if x %  2 == 0:\n",
    "\t\t    return_string += str(x) + \" \"\n",
    "\treturn return_string.strip()\n",
    "\n",
    "print(even_numbers(6))  # Should be 2 4 6\n",
    "print(even_numbers(10)) # Should be 2 4 6 8 10\n",
    "print(even_numbers(1))  # No numbers displayed\n",
    "print(even_numbers(3))  # Should be 2\n",
    "print(even_numbers(0))  # No numbers displayed"
   ]
  },
  {
   "cell_type": "code",
   "execution_count": 73,
   "id": "executed-blocking",
   "metadata": {},
   "outputs": [],
   "source": [
    "def even_numbers(maximum):\n",
    "    return_string = \"\"\n",
    "    for x in range(maximum+1):\n",
    "        if x > 0 and x % 2 == 0:\n",
    "            return_string += str(x) + \" \"\n",
    "    return return_string.strip()"
   ]
  },
  {
   "cell_type": "code",
   "execution_count": 76,
   "id": "better-manhattan",
   "metadata": {},
   "outputs": [
    {
     "name": "stdout",
     "output_type": "stream",
     "text": [
      "2 4 6\n",
      "2 4 6 8 10\n",
      "\n",
      "2\n",
      "\n"
     ]
    }
   ],
   "source": [
    "print(even_numbers(6))  # Should be 2 4 6\n",
    "print(even_numbers(10)) # Should be 2 4 6 8 10\n",
    "print(even_numbers(1))  # No numbers displayed\n",
    "print(even_numbers(3))  # Should be 2\n",
    "print(even_numbers(0))  # No numbers displayed"
   ]
  },
  {
   "cell_type": "raw",
   "id": "assisted-scott",
   "metadata": {},
   "source": [
    "Question 7\n",
    "The following code raises an error when executed. What's the reason for the error?"
   ]
  },
  {
   "cell_type": "code",
   "execution_count": 80,
   "id": "approved-assurance",
   "metadata": {},
   "outputs": [],
   "source": [
    "def decade_counter(year):\n",
    "\twhile year < 50:\n",
    "\t\tyear += 10\n",
    "\treturn year"
   ]
  },
  {
   "cell_type": "code",
   "execution_count": 82,
   "id": "configured-health",
   "metadata": {},
   "outputs": [
    {
     "data": {
      "text/plain": [
       "50"
      ]
     },
     "execution_count": 82,
     "metadata": {},
     "output_type": "execute_result"
    }
   ],
   "source": [
    "decade_counter(10)"
   ]
  },
  {
   "cell_type": "code",
   "execution_count": 85,
   "id": "beginning-german",
   "metadata": {},
   "outputs": [
    {
     "name": "stdout",
     "output_type": "stream",
     "text": [
      "147"
     ]
    }
   ],
   "source": [
    "for x in range(1, 10, 3):\n",
    "    print(x, end = \"\")"
   ]
  },
  {
   "cell_type": "code",
   "execution_count": 93,
   "id": "pharmaceutical-coverage",
   "metadata": {
    "scrolled": true
   },
   "outputs": [
    {
     "name": "stdout",
     "output_type": "stream",
     "text": [
      "001012012301234012345012345601234567012345678"
     ]
    }
   ],
   "source": [
    "for x in range(10):\n",
    "    for y in range(x):\n",
    "        print(y, end = \"\")"
   ]
  },
  {
   "cell_type": "code",
   "execution_count": 91,
   "id": "measured-sacrifice",
   "metadata": {},
   "outputs": [],
   "source": [
    "def votes(params):\n",
    "\tfor vote in params:\n",
    "\t    print(\"Possible option:\" + vote)"
   ]
  },
  {
   "cell_type": "code",
   "execution_count": 92,
   "id": "quarterly-cathedral",
   "metadata": {},
   "outputs": [
    {
     "name": "stdout",
     "output_type": "stream",
     "text": [
      "Possible option:yes\n",
      "Possible option:no\n",
      "Possible option:maybe\n"
     ]
    }
   ],
   "source": [
    "votes(['yes', 'no', 'maybe'])"
   ]
  }
 ],
 "metadata": {
  "kernelspec": {
   "display_name": "Python 3",
   "language": "python",
   "name": "python3"
  },
  "language_info": {
   "codemirror_mode": {
    "name": "ipython",
    "version": 3
   },
   "file_extension": ".py",
   "mimetype": "text/x-python",
   "name": "python",
   "nbconvert_exporter": "python",
   "pygments_lexer": "ipython3",
   "version": "3.6.5"
  }
 },
 "nbformat": 4,
 "nbformat_minor": 5
}
