{
 "cells": [
  {
   "cell_type": "code",
   "execution_count": 4,
   "id": "compliant-external",
   "metadata": {},
   "outputs": [
    {
     "name": "stdout",
     "output_type": "stream",
     "text": [
      "Hi Taylor\n",
      "Hi June\n",
      "Hi Bale\n"
     ]
    }
   ],
   "source": [
    "friends = ['Taylor','June','Bale']\n",
    "for friend in friends:\n",
    "    print(\"Hi\",friend)"
   ]
  },
  {
   "cell_type": "code",
   "execution_count": 6,
   "id": "encouraging-auditor",
   "metadata": {},
   "outputs": [
    {
     "name": "stdout",
     "output_type": "stream",
     "text": [
      "My first Python Program\n"
     ]
    }
   ],
   "source": [
    "print(\"My first Python Program\")"
   ]
  },
  {
   "cell_type": "code",
   "execution_count": 5,
   "id": "expanded-mumbai",
   "metadata": {},
   "outputs": [
    {
     "name": "stdout",
     "output_type": "stream",
     "text": [
      "Hello World!\n",
      "Hello World!\n",
      "Hello World!\n",
      "Hello World!\n",
      "Hello World!\n",
      "Hello World!\n",
      "Hello World!\n",
      "Hello World!\n",
      "Hello World!\n",
      "Hello World!\n"
     ]
    }
   ],
   "source": [
    "for i in range(10):\n",
    "    print(\"Hello World!\")"
   ]
  },
  {
   "cell_type": "code",
   "execution_count": 7,
   "id": "equipped-ethernet",
   "metadata": {},
   "outputs": [
    {
     "name": "stdout",
     "output_type": "stream",
     "text": [
      "This is fun!\n",
      "This is fun!\n",
      "This is fun!\n",
      "This is fun!\n",
      "This is fun!\n"
     ]
    }
   ],
   "source": [
    "for i in range(5):\n",
    "  print(\"This is fun!\")"
   ]
  },
  {
   "cell_type": "code",
   "execution_count": 11,
   "id": "hairy-library",
   "metadata": {},
   "outputs": [
    {
     "name": "stdout",
     "output_type": "stream",
     "text": [
      "1\n",
      "2\n",
      "3\n",
      "4\n",
      "5\n",
      "6\n",
      "7\n",
      "8\n",
      "9\n",
      "10\n"
     ]
    }
   ],
   "source": [
    "i = 0\n",
    "for i in range(10):\n",
    "    if i <= 10:\n",
    "        i += 1\n",
    "        print(i)"
   ]
  },
  {
   "cell_type": "code",
   "execution_count": 12,
   "id": "interim-envelope",
   "metadata": {},
   "outputs": [
    {
     "name": "stdout",
     "output_type": "stream",
     "text": [
      "Hello World!\n"
     ]
    }
   ],
   "source": [
    "print(\"Hello World!\")"
   ]
  },
  {
   "cell_type": "code",
   "execution_count": 14,
   "id": "julian-overall",
   "metadata": {},
   "outputs": [
    {
     "name": "stdout",
     "output_type": "stream",
     "text": [
      "Hello Brook\n"
     ]
    }
   ],
   "source": [
    "name = \"Brook\"\n",
    "print(\"Hello \"+ name)"
   ]
  },
  {
   "cell_type": "code",
   "execution_count": 18,
   "id": "falling-december",
   "metadata": {},
   "outputs": [
    {
     "name": "stdout",
     "output_type": "stream",
     "text": [
      "9\n",
      "63\n",
      "0.3333333333333333\n",
      "42.0\n",
      "9\n"
     ]
    }
   ],
   "source": [
    "#python as a calculator\n",
    "print(4+5)\n",
    "print(9*7)\n",
    "print(1/3)\n",
    "print(((2050/5)-32)/9)\n",
    "print(3**2)"
   ]
  },
  {
   "cell_type": "code",
   "execution_count": 19,
   "id": "disturbed-candy",
   "metadata": {},
   "outputs": [
    {
     "name": "stdout",
     "output_type": "stream",
     "text": [
      "1.618033988749895\n"
     ]
    }
   ],
   "source": [
    "ratio = (1+(5**(0.5)))/(2)\n",
    "print(ratio)"
   ]
  },
  {
   "cell_type": "code",
   "execution_count": 27,
   "id": "limited-point",
   "metadata": {},
   "outputs": [
    {
     "name": "stdout",
     "output_type": "stream",
     "text": [
      "308915776\n"
     ]
    }
   ],
   "source": [
    "i = 26\n",
    "print(i**6)\n"
   ]
  },
  {
   "cell_type": "code",
   "execution_count": null,
   "id": "intermediate-chuck",
   "metadata": {},
   "outputs": [],
   "source": []
  }
 ],
 "metadata": {
  "kernelspec": {
   "display_name": "Python 3",
   "language": "python",
   "name": "python3"
  },
  "language_info": {
   "codemirror_mode": {
    "name": "ipython",
    "version": 3
   },
   "file_extension": ".py",
   "mimetype": "text/x-python",
   "name": "python",
   "nbconvert_exporter": "python",
   "pygments_lexer": "ipython3",
   "version": "3.6.5"
  }
 },
 "nbformat": 4,
 "nbformat_minor": 5
}
