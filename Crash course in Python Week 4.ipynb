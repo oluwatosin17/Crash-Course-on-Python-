{
 "cells": [
  {
   "cell_type": "code",
   "execution_count": 6,
   "id": "handy-andrew",
   "metadata": {},
   "outputs": [
    {
     "name": "stdout",
     "output_type": "stream",
     "text": [
      "Name: Sasha, Favorite color: gold\n",
      "exampleexampleexample\n"
     ]
    },
    {
     "data": {
      "text/plain": [
       "5"
      ]
     },
     "execution_count": 6,
     "metadata": {},
     "output_type": "execute_result"
    }
   ],
   "source": [
    "#Empty String\n",
    "pet = \"\"\n",
    "\n",
    "#Concatenating\n",
    "name = \"Sasha\"\n",
    "color = \"gold\"\n",
    "\n",
    "print(\"Name: \"+ name + \", Favorite color: \"+ color)\n",
    "\n",
    "#multiplying\n",
    "print(\"example\"*3)\n",
    "\n",
    "#length of a string\n",
    "len(name)\n",
    "\n"
   ]
  },
  {
   "cell_type": "code",
   "execution_count": 12,
   "id": "current-airplane",
   "metadata": {},
   "outputs": [
    {
     "name": "stdout",
     "output_type": "stream",
     "text": [
      "a\n",
      "n\n",
      "n\n",
      "apple\n",
      "pine\n"
     ]
    }
   ],
   "source": [
    "#String Indexing\n",
    "name = \"Jaylen\"\n",
    "print(name[1])\n",
    "print(name[5])\n",
    "#negative indexing\n",
    "print(name[-1])\n",
    "\n",
    "#slice\n",
    "color = \"Orange\"\n",
    "color[1:4]\n",
    "\n",
    "fruit = \"pineapple\"\n",
    "print(fruit[4:])\n",
    "print(fruit[:4])"
   ]
  },
  {
   "cell_type": "code",
   "execution_count": 30,
   "id": "specified-suspect",
   "metadata": {},
   "outputs": [
    {
     "name": "stdout",
     "output_type": "stream",
     "text": [
      "A long string with a silly typo\n",
      "This is a new message\n",
      "Another one\n",
      "Cats & Dogs\n"
     ]
    }
   ],
   "source": [
    "message = \"A kong string with a silly typo\"\n",
    "new_message = message[0:2] + \"l\" + message[3:]\n",
    "print(new_message)\n",
    "\n",
    "message = \"This is a new message\"\n",
    "print(message)\n",
    "message = \"Another one\"\n",
    "print(message)\n",
    "\n",
    "pets = \"Cats & Dogs\"\n",
    "print(pets)\n",
    "\n"
   ]
  },
  {
   "cell_type": "code",
   "execution_count": 37,
   "id": "demonstrated-gabriel",
   "metadata": {},
   "outputs": [
    {
     "data": {
      "text/plain": [
       "True"
      ]
     },
     "execution_count": 37,
     "metadata": {},
     "output_type": "execute_result"
    }
   ],
   "source": [
    "# getting index\n",
    "pets.index(\"&\")\n",
    "pets.index(\"C\")\n",
    "pets.index(\"Dogs\")\n",
    "pets.index(\"s\")\n",
    "\n",
    "#in for true or false\n",
    "\"Dragons\" in pets\n",
    "\"Cats\" in pets"
   ]
  },
  {
   "cell_type": "code",
   "execution_count": 49,
   "id": "distant-aircraft",
   "metadata": {},
   "outputs": [
    {
     "name": "stdout",
     "output_type": "stream",
     "text": [
      "MOUNTAINS\n",
      "mountains\n",
      "User said yes\n",
      "yes\n",
      "yes\n",
      "yes\n",
      "yes\n",
      "4\n",
      "True\n",
      "False\n",
      "True\n"
     ]
    }
   ],
   "source": [
    "name = \"Mountains\"\n",
    "print(\"Mountains\".upper())\n",
    "print(name.lower())\n",
    "\n",
    "answer = \"YES\"\n",
    "if answer.lower() == \"yes\":\n",
    "    print(\"User said yes\")\n",
    "    \n",
    "# to get rid of any white space\n",
    "print(\" yes \".strip())\n",
    "print(\" yes\".lstrip())\n",
    "print(\"yes \".rstrip())\n",
    "print(\"$yes\".strip(\"$\"))\n",
    "\n",
    "#count\n",
    "print(\"The number of times e occurs in this string\".count(\"e\"))\n",
    "#endswith\n",
    "print(\"The forest\".endswith(\"rest\"))\n",
    "#isnumeric\n",
    "print(\"Forest\".isnumeric())\n",
    "print(\"123\".isnumeric())"
   ]
  },
  {
   "cell_type": "code",
   "execution_count": 56,
   "id": "intensive-arrest",
   "metadata": {},
   "outputs": [
    {
     "data": {
      "text/plain": [
       "['This', 'is', 'a', 'split']"
      ]
     },
     "execution_count": 56,
     "metadata": {},
     "output_type": "execute_result"
    }
   ],
   "source": [
    "int(\"10\") + int(\"30\")\n",
    "#.join\n",
    "\" \".join([\"This\",\"is\", \"a\", \"phrase\", \"joined\", \"by\", \"spaces\"])\n",
    "\"...\".join([\"This\",\"is\", \"a\", \"phrase\", \"joined\", \"by\", \"triple\", \"dots\"])\n",
    "\n",
    "#split\n",
    "\"This is a split\".split()"
   ]
  },
  {
   "cell_type": "code",
   "execution_count": 62,
   "id": "artificial-visitor",
   "metadata": {},
   "outputs": [
    {
     "name": "stdout",
     "output_type": "stream",
     "text": [
      "Hello Manny, your lucky number is 15\n",
      "Your lucky number is 15, Manny.\n"
     ]
    }
   ],
   "source": [
    "#Format string\n",
    "name = \"Manny\"\n",
    "number = len(name) * 3\n",
    "print(\"Hello {}, your lucky number is {}\".format(name, number))\n",
    "\n",
    "print(\"Your lucky number is {number}, {name}.\".format(name = name, number = len(name)*3))"
   ]
  },
  {
   "cell_type": "code",
   "execution_count": 64,
   "id": "rough-listing",
   "metadata": {},
   "outputs": [
    {
     "name": "stdout",
     "output_type": "stream",
     "text": [
      "7.5 8.175\n",
      "Base price: $7.50. With Tax:$8.18\n"
     ]
    }
   ],
   "source": [
    "price = 7.5\n",
    "with_tax = price * 1.09\n",
    "print(price, with_tax)\n",
    "\n",
    "print(\"Base price: ${:.2f}. With Tax:${:.2f}\".format(price, with_tax))\n"
   ]
  },
  {
   "cell_type": "code",
   "execution_count": 67,
   "id": "alternative-saturn",
   "metadata": {},
   "outputs": [
    {
     "name": "stdout",
     "output_type": "stream",
     "text": [
      "  0 F | -17.78 C\n",
      " 10 F | -12.22 C\n",
      " 20 F |  -6.67 C\n",
      " 30 F |  -1.11 C\n",
      " 40 F |   4.44 C\n",
      " 50 F |  10.00 C\n",
      " 60 F |  15.56 C\n",
      " 70 F |  21.11 C\n",
      " 80 F |  26.67 C\n",
      " 90 F |  32.22 C\n",
      "100 F |  37.78 C\n"
     ]
    }
   ],
   "source": [
    "def to_celsius(x):\n",
    "    return(x-32)*5/9\n",
    "for x in range(0,101,10):\n",
    "    print(\"{:>3} F | {:>6.2f} C\".format(x, to_celsius(x)))\n",
    "    #{:>3} allign to the right for a total of 3 spaces\n",
    "    #{:>6.2f} to 2 decimal spaces and allign to the right at six spaces"
   ]
  },
  {
   "cell_type": "code",
   "execution_count": 68,
   "id": "valued-plane",
   "metadata": {},
   "outputs": [
    {
     "name": "stdout",
     "output_type": "stream",
     "text": [
      "apple carrot banana\n"
     ]
    }
   ],
   "source": [
    "# \"{0} {1}\".format(first, second)\n",
    "\n",
    "first = \"apple\"\n",
    "second = \"banana\"\n",
    "third = \"carrot\"\n",
    "\n",
    "formatted_string = \"{0} {2} {1}\".format(first, second, third)\n",
    "\n",
    "print(formatted_string)"
   ]
  },
  {
   "cell_type": "code",
   "execution_count": 73,
   "id": "circular-motion",
   "metadata": {},
   "outputs": [
    {
     "ename": "ValueError",
     "evalue": "Unknown format code 'd' for object of type 'float'",
     "output_type": "error",
     "traceback": [
      "\u001b[1;31m---------------------------------------------------------------------------\u001b[0m",
      "\u001b[1;31mValueError\u001b[0m                                Traceback (most recent call last)",
      "\u001b[1;32m<ipython-input-73-0e679b5654a6>\u001b[0m in \u001b[0;36m<module>\u001b[1;34m()\u001b[0m\n\u001b[1;32m----> 1\u001b[1;33m \u001b[1;34m'{:d}'\u001b[0m\u001b[1;33m.\u001b[0m\u001b[0mformat\u001b[0m\u001b[1;33m(\u001b[0m\u001b[1;36m10.4\u001b[0m\u001b[1;33m)\u001b[0m\u001b[1;33m\u001b[0m\u001b[0m\n\u001b[0m",
      "\u001b[1;31mValueError\u001b[0m: Unknown format code 'd' for object of type 'float'"
     ]
    }
   ],
   "source": [
    "'{:d}'.format(10.4)"
   ]
  },
  {
   "cell_type": "raw",
   "id": "posted-ontario",
   "metadata": {},
   "source": [
    "{:d}\tinteger value\t'{:d}'.format(10.5) → '10'\n",
    "{:.2f}\tfloating point with that many decimals\t'{:.2f}'.format(0.5) → '0.50'\n",
    "{:.2s}\tstring with that many characters\t'{:.2s}'.format('Python') → 'Py'\n",
    "{:<6s}\tstring aligned to the left that many spaces\t'{:<6s}'.format('Py') → 'Py    '\n",
    "{:>6s}\tstring aligned to the right that many spaces\t'{:>6s}'.format('Py') → '    Py'\n",
    "{:^6s}\tstring centered in that many spaces\t'{:^6s}'.format('Py') → '  Py  '"
   ]
  },
  {
   "cell_type": "code",
   "execution_count": 74,
   "id": "coral-adelaide",
   "metadata": {},
   "outputs": [
    {
     "name": "stdout",
     "output_type": "stream",
     "text": [
      "Hello Micah\n"
     ]
    }
   ],
   "source": [
    " name = \"Micah\"\n",
    "\n",
    "print(f'Hello {name}')"
   ]
  },
  {
   "cell_type": "code",
   "execution_count": 75,
   "id": "genetic-bacon",
   "metadata": {},
   "outputs": [
    {
     "name": "stdout",
     "output_type": "stream",
     "text": [
      "Item: Purple Cup - Amount: 5 - Price: 16.25\n"
     ]
    }
   ],
   "source": [
    "item = \"Purple Cup\"\n",
    "amount = 5\n",
    "price = amount * 3.25\n",
    "print(f'Item: {item} - Amount: {amount} - Price: {price:.2f}')"
   ]
  },
  {
   "cell_type": "raw",
   "id": "valued-statistics",
   "metadata": {},
   "source": [
    "The is_palindrome function checks if a string is a palindrome. A palindrome is a string that can be equally read from left to right or right to left, omitting blank spaces, and ignoring capitalization. Examples of palindromes are words like kayak and radar, and phrases like \"Never Odd or Even\". Fill in the blanks in this function to return True if the passed string is a palindrome, False if not."
   ]
  },
  {
   "cell_type": "code",
   "execution_count": 105,
   "id": "unavailable-pocket",
   "metadata": {},
   "outputs": [
    {
     "name": "stdout",
     "output_type": "stream",
     "text": [
      "pap"
     ]
    }
   ],
   "source": [
    "s = \"pap\"\n",
    "s[::-1]\n",
    "a = \"1234\"\n",
    "a[::-1]\n",
    "a[0:]\n",
    "s[::-1] == s[0:]\n",
    "a[::-1] == a[0:]\n"
   ]
  },
  {
   "cell_type": "code",
   "execution_count": 114,
   "id": "geological-bulgarian",
   "metadata": {},
   "outputs": [
    {
     "name": "stdout",
     "output_type": "stream",
     "text": [
      "i i\n",
      "io oi\n",
      "ioi ioi\n"
     ]
    }
   ],
   "source": [
    "reverse = \"\"\n",
    "string = \"\"\n",
    "s = \"ioi\"\n",
    "for i in s:\n",
    "    string += i.lower()\n",
    "    reverse = i.lower()+reverse\n",
    "    print(string, reverse)"
   ]
  },
  {
   "cell_type": "code",
   "execution_count": 115,
   "id": "secondary-millennium",
   "metadata": {},
   "outputs": [
    {
     "name": "stdout",
     "output_type": "stream",
     "text": [
      "True\n",
      "False\n",
      "True\n"
     ]
    }
   ],
   "source": [
    "def is_palindrome(input_string):\n",
    "\t# We'll create two strings, to compare them\n",
    "\tnew_string = \"\"\n",
    "\treverse_string = \"\"\n",
    "\t# Traverse through each letter of the input string\n",
    "\tfor string in input_string:\n",
    "\t\t# Add any non-blank letters to the \n",
    "\t\t# end of one string, and to the front\n",
    "\t\t# of the other string.\n",
    "\t\tif string != \" \":\n",
    "\t\t\tnew_string += string.lower()\n",
    "\t\t\treverse_string = string.lower()+reverse_string\n",
    "            \n",
    "            \n",
    "\t# Compare the strings\n",
    "\tif new_string == reverse_string:\n",
    "\t\treturn True\n",
    "\treturn False\n",
    "\n",
    "\n",
    "print(is_palindrome(\"Never Odd or Even\")) # Should be True\n",
    "print(is_palindrome(\"abc\")) # Should be False\n",
    "print(is_palindrome(\"kayak\")) # Should be True"
   ]
  },
  {
   "cell_type": "raw",
   "id": "respected-community",
   "metadata": {},
   "source": [
    "Using the format method, fill in the gaps in the convert_distance function so that it returns the phrase \"X miles equals Y km\", with Y having only 1 decimal place. For example, convert_distance(12) should return \"12 miles equals 19.2 km\"."
   ]
  },
  {
   "cell_type": "code",
   "execution_count": 118,
   "id": "appreciated-violation",
   "metadata": {},
   "outputs": [
    {
     "name": "stdout",
     "output_type": "stream",
     "text": [
      "12 miles equals 19.2 km\n",
      "5.5 miles equals 8.8 km\n",
      "11 miles equals 17.6 km\n"
     ]
    }
   ],
   "source": [
    "def convert_distance(miles):\n",
    "\tkm = miles * 1.6 \n",
    "\tresult = \"{} miles equals {:.1f} km\".format(miles,km)\n",
    "\treturn result\n",
    "\n",
    "print(convert_distance(12)) # Should be: 12 miles equals 19.2 km\n",
    "print(convert_distance(5.5)) # Should be: 5.5 miles equals 8.8 km\n",
    "print(convert_distance(11)) # Should be: 11 miles equals 17.6 km"
   ]
  },
  {
   "cell_type": "code",
   "execution_count": 152,
   "id": "exclusive-experiment",
   "metadata": {},
   "outputs": [
    {
     "name": "stdout",
     "output_type": "stream",
     "text": [
      "Rainfall is good\n"
     ]
    }
   ],
   "source": [
    "Weather = \"Rainfall is bad\"\n",
    "weather = Weather.split()[:-1]\n",
    "weather.append(\"good\")\n",
    "weather = \" \".join(weather)\n",
    "print(weather)"
   ]
  },
  {
   "cell_type": "raw",
   "id": "talented-norwegian",
   "metadata": {},
   "source": [
    "Question 5\n",
    "The replace_ending function replaces the old string in a sentence with the new string, but only if the sentence ends with the old string. If there is more than one occurrence of the old string in the sentence, only the one at the end is replaced, not all of them. For example, replace_ending(\"abcabc\", \"abc\", \"xyz\") should return abcxyz, not xyzxyz or xyzabc. The string comparison is case-sensitive, so replace_ending(\"abcabc\", \"ABC\", \"xyz\") should return abcabc (no changes made). "
   ]
  },
  {
   "cell_type": "code",
   "execution_count": 183,
   "id": "oriental-lambda",
   "metadata": {},
   "outputs": [
    {
     "name": "stdout",
     "output_type": "stream",
     "text": [
      "It's raining cats and dogs\n",
      "She sells seashells by the seashore\n",
      "The weather is nice in May\n",
      "The weather is nice in April\n"
     ]
    }
   ],
   "source": [
    "def replace_ending(sentence, old, new):\n",
    "\t# Check if the old string is at the end of the sentence \n",
    "\tif sentence.endswith(old):\n",
    "\t\t# Using i as the slicing index, combine the part\n",
    "\t\t# of the sentence up to the matched string at the \n",
    "\t\t# end with the new string\n",
    "\t\ti = len(old)\n",
    "\t\tnew_sentence = sentence[:-i]+new\n",
    "\t\treturn new_sentence\n",
    "\n",
    "\t# Return the original sentence if there is no match \n",
    "\treturn sentence\n",
    "\t\n",
    "print(replace_ending(\"It's raining cats and cats\", \"cats\", \"dogs\")) \n",
    "# Should display \"It's raining cats and dogs\"\n",
    "print(replace_ending(\"She sells seashells by the seashore\", \"seashells\", \"donuts\")) \n",
    "# Should display \"She sells seashells by the seashore\"\n",
    "print(replace_ending(\"The weather is nice in May\", \"may\", \"april\")) \n",
    "# Should display \"The weather is nice in May\"\n",
    "print(replace_ending(\"The weather is nice in May\", \"May\", \"April\")) \n",
    "# Should display \"The weather is nice in April\"\n"
   ]
  },
  {
   "cell_type": "raw",
   "id": "flying-trinity",
   "metadata": {},
   "source": [
    "Question 4\n",
    "Fill in the gaps in the nametag function so that it uses the format method to return first_name and the first initial of last_name followed by a period. For example, nametag(\"Jane\", \"Smith\") should return \"Jane S.\""
   ]
  },
  {
   "cell_type": "code",
   "execution_count": 190,
   "id": "legendary-viking",
   "metadata": {
    "scrolled": true
   },
   "outputs": [
    {
     "name": "stdout",
     "output_type": "stream",
     "text": [
      "Jane S.\n",
      "Francesco R.\n",
      "Jean-Luc G.\n"
     ]
    }
   ],
   "source": [
    "def nametag(first_name, last_name):\n",
    "\treturn(\"{}{}{last_name[0]}.\".format(first_name,\" \" ,last_name = last_name))\n",
    "\n",
    "print(nametag(\"Jane\", \"Smith\")) \n",
    "# Should display \"Jane S.\" \n",
    "print(nametag(\"Francesco\", \"Rinaldi\")) \n",
    "# Should display \"Francesco R.\" \n",
    "print(nametag(\"Jean-Luc\", \"Grand-Pierre\")) \n",
    "# Should display \"Jean-Luc G.\" "
   ]
  },
  {
   "cell_type": "code",
   "execution_count": 192,
   "id": "psychological-twenty",
   "metadata": {},
   "outputs": [
    {
     "name": "stdout",
     "output_type": "stream",
     "text": [
      "['Now', 'we', 'are', 'cooking!']\n",
      "4\n",
      "True\n"
     ]
    }
   ],
   "source": [
    "#list\n",
    "x = [\"Now\",\"we\",\"are\", \"cooking!\"]\n",
    "type(x)\n",
    "print(x)\n",
    "print(len(x))\n",
    "print(\"are\" in x)"
   ]
  },
  {
   "cell_type": "code",
   "execution_count": 196,
   "id": "behind-twins",
   "metadata": {},
   "outputs": [
    {
     "name": "stdout",
     "output_type": "stream",
     "text": [
      "cooking!\n",
      "['we', 'are']\n",
      "['Now', 'we']\n",
      "['are', 'cooking!']\n"
     ]
    }
   ],
   "source": [
    "#indexing\n",
    "print(x[3])\n",
    "print(x[1:3])\n",
    "print(x[:2])\n",
    "print(x[2:])"
   ]
  },
  {
   "cell_type": "code",
   "execution_count": 205,
   "id": "latest-bicycle",
   "metadata": {},
   "outputs": [
    {
     "name": "stdout",
     "output_type": "stream",
     "text": [
      "['Pineapple', 'Orange', 'Banana', 'Apple', 'Melon', 'Kiwi']\n",
      "['Orange', 'Pineapple', 'Orange', 'Banana', 'Apple', 'Melon', 'Kiwi']\n",
      "['Orange', 'Pineapple', 'Orange', 'Banana', 'Apple', 'Melon', 'Kiwi', 'Peachy']\n",
      "['Orange', 'Pineapple', 'Orange', 'Banana', 'Apple', 'Kiwi', 'Peachy']\n",
      "['Orange', 'Pineapple', 'Orange', 'Apple', 'Kiwi', 'Peachy']\n",
      "['Orange', 'Pineapple', 'Strawberry', 'Apple', 'Kiwi', 'Peachy']\n"
     ]
    }
   ],
   "source": [
    "fruits = [\"Pineapple\", \"Orange\", \"Banana\", \"Apple\", \"Melon\"]\n",
    "fruits.append(\"Kiwi\")\n",
    "print(fruits)\n",
    "\n",
    "#insert\n",
    "fruits.insert(0, \"Orange\")\n",
    "print(fruits)\n",
    "\n",
    "fruits.insert(24,\"Peachy\")\n",
    "print(fruits)\n",
    "\n",
    "#remove\n",
    "fruits.remove(\"Melon\")\n",
    "print(fruits)\n",
    "\n",
    "#pop\n",
    "fruits.pop(3)\n",
    "print(fruits)\n",
    "\n",
    "fruits[2] = \"Strawberry\"\n",
    "print(fruits)\n"
   ]
  },
  {
   "cell_type": "code",
   "execution_count": 206,
   "id": "entitled-bookmark",
   "metadata": {},
   "outputs": [
    {
     "name": "stdout",
     "output_type": "stream",
     "text": [
      "('Grace', 'M', 'Hooper')\n"
     ]
    }
   ],
   "source": [
    "fullname = ('Grace', 'M', 'Hooper')\n",
    "print(fullname)"
   ]
  },
  {
   "cell_type": "code",
   "execution_count": 207,
   "id": "ahead-northwest",
   "metadata": {},
   "outputs": [],
   "source": [
    "def convert_seconds(seconds):\n",
    "    hours = seconds // 3600\n",
    "    minutes = (seconds - hours * 3600) // 60\n",
    "    remaining_seconds = (seconds - hours * 3600 - minutes * 60 )\n",
    "    return hours, minutes, remaining_seconds"
   ]
  },
  {
   "cell_type": "code",
   "execution_count": 211,
   "id": "posted-president",
   "metadata": {},
   "outputs": [
    {
     "name": "stdout",
     "output_type": "stream",
     "text": [
      "(1, 23, 20)\n",
      "<class 'tuple'>\n"
     ]
    }
   ],
   "source": [
    "result = convert_seconds(5000)\n",
    "print(result)\n",
    "print(type(result))"
   ]
  },
  {
   "cell_type": "code",
   "execution_count": 212,
   "id": "wired-level",
   "metadata": {},
   "outputs": [
    {
     "name": "stdout",
     "output_type": "stream",
     "text": [
      "1 23 20\n"
     ]
    }
   ],
   "source": [
    "hours, minutes, seconds = result\n",
    "print(hours, minutes, seconds)"
   ]
  },
  {
   "cell_type": "code",
   "execution_count": 214,
   "id": "overhead-madagascar",
   "metadata": {},
   "outputs": [
    {
     "name": "stdout",
     "output_type": "stream",
     "text": [
      "1 23 20\n"
     ]
    }
   ],
   "source": [
    "hours, minutes, seconds = convert_seconds(5000)\n",
    "print(hours, minutes, seconds)"
   ]
  },
  {
   "cell_type": "code",
   "execution_count": 217,
   "id": "registered-ensemble",
   "metadata": {},
   "outputs": [
    {
     "name": "stdout",
     "output_type": "stream",
     "text": [
      "Total Characters: 22, Average Length: 5.5\n"
     ]
    }
   ],
   "source": [
    "#iterating over list\n",
    "animals = [\"Lion\", \"Zebra\", \"Dolphin\", \"Monkey\"]\n",
    "chars = 0\n",
    "for animal in animals:\n",
    "    chars += len(animal)\n",
    "    \n",
    "print(\"Total Characters: {}, Average Length: {}\".format(chars, chars/len(animals)))"
   ]
  },
  {
   "cell_type": "code",
   "execution_count": 219,
   "id": "limited-raising",
   "metadata": {},
   "outputs": [
    {
     "name": "stdout",
     "output_type": "stream",
     "text": [
      "1 - Ashley\n",
      "2 - Dylan\n",
      "3 - Reese\n"
     ]
    }
   ],
   "source": [
    "#enumerate\n",
    "winners = [\"Ashley\", \"Dylan\", \"Reese\"]\n",
    "for index, person in enumerate(winners):\n",
    "    print(\"{} - {}\".format(index + 1, person))"
   ]
  },
  {
   "cell_type": "code",
   "execution_count": 229,
   "id": "apart-april",
   "metadata": {},
   "outputs": [
    {
     "name": "stdout",
     "output_type": "stream",
     "text": [
      "['Oluwatosin Diego <obalanatosin16@example.com>', 'Shay Brandt <shay@eample.com>']\n"
     ]
    }
   ],
   "source": [
    "def full_emails(people):\n",
    "    result = []\n",
    "    for email, name in people:\n",
    "        result.append(\"{} <{}>\".format(name, email))\n",
    "    return result\n",
    "\n",
    "print(full_emails([(\"obalanatosin16@example.com\", \"Oluwatosin Diego\"), (\"shay@eample.com\", \"Shay Brandt\" )]))"
   ]
  },
  {
   "cell_type": "code",
   "execution_count": 233,
   "id": "protecting-quarterly",
   "metadata": {},
   "outputs": [
    {
     "name": "stdout",
     "output_type": "stream",
     "text": [
      "[7, 14, 21, 28, 35, 42, 49, 56, 63, 70]\n"
     ]
    }
   ],
   "source": [
    "#List Comprehension\n",
    "multiples = []\n",
    "for x in range(1,11):\n",
    "    multiples.append(x*7)\n",
    "    \n",
    "print(multiples)"
   ]
  },
  {
   "cell_type": "code",
   "execution_count": 235,
   "id": "egyptian-thanksgiving",
   "metadata": {},
   "outputs": [
    {
     "name": "stdout",
     "output_type": "stream",
     "text": [
      "[7, 14, 21, 28, 35, 42, 49, 56, 63, 70]\n"
     ]
    }
   ],
   "source": [
    "multiples = [x * 7 for x in range(1,11)]\n",
    "print(multiples)"
   ]
  },
  {
   "cell_type": "code",
   "execution_count": 240,
   "id": "latest-healthcare",
   "metadata": {},
   "outputs": [
    {
     "name": "stdout",
     "output_type": "stream",
     "text": [
      "[6, 4, 4, 2, 4, 1]\n",
      "['Python', 'Perl', 'Ruby', 'Go', 'Java', 'C']\n"
     ]
    }
   ],
   "source": [
    "languages = [\"Python\", \"Perl\", \"Ruby\", \"Go\", \"Java\", \"C\"]\n",
    "lengths = [len(language) for language in languages]\n",
    "print(lengths)\n",
    "print([x for x in languages])"
   ]
  },
  {
   "cell_type": "code",
   "execution_count": 241,
   "id": "super-produce",
   "metadata": {},
   "outputs": [
    {
     "name": "stdout",
     "output_type": "stream",
     "text": [
      "[0, 3, 6, 9, 12, 15, 18, 21, 24, 27, 30, 33, 36, 39, 42, 45, 48, 51, 54, 57, 60, 63, 66, 69, 72, 75, 78, 81, 84, 87, 90, 93, 96, 99]\n"
     ]
    }
   ],
   "source": [
    "z = [x for x in range(0, 101) if x % 3 == 0]\n",
    "print(z)"
   ]
  },
  {
   "cell_type": "raw",
   "id": "renewable-highland",
   "metadata": {},
   "source": [
    "Common sequence operations\n",
    "len(sequence) Returns the length of the sequence\n",
    "for element in sequence Iterates over each element in the sequence\n",
    "if element in sequence Checks whether the element is part of the sequence\n",
    "sequence[i] Accesses the element at index i of the sequence, starting at zero\n",
    "sequence[i:j] Accesses a slice starting at index i, ending at index j-1. If i is omitted, it's 0 by default. If j is omitted, it's len(sequence) by default.\n",
    "for index, element in enumerate(sequence) Iterates over both the indexes and the elements in the sequence at the same time"
   ]
  },
  {
   "cell_type": "raw",
   "id": "taken-robinson",
   "metadata": {},
   "source": [
    "List-specific operations and methods\n",
    "list[i] = x Replaces the element at index i with x\n",
    "list.append(x) Inserts x at the end of the list\n",
    "list.insert(i, x) Inserts x at index i\n",
    "list.pop(i) Returns the element a index i, also removing it from the list. If i is omitted, the last element is returned and removed.\n",
    "list.remove(x) Removes the first occurrence of x in the list\n",
    "list.sort() Sorts the items in the list\n",
    "list.reverse() Reverses the order of items of the list\n",
    "list.clear() Removes all the items of the list\n",
    "list.copy() Creates a copy of the list\n",
    "list.extend(other_list) Appends all the elements of other_list at the end of list"
   ]
  },
  {
   "cell_type": "raw",
   "id": "devoted-encoding",
   "metadata": {},
   "source": [
    "List comprehension\n",
    "[expression for variable in sequence] Creates a new list based on the given sequence. Each element is the result of the given expression.\n",
    "[expression for variable in sequence if condition] Creates a new list based on the given sequence. Each element is the result of the given expression; elements only get added if the condition is true.  "
   ]
  },
  {
   "cell_type": "raw",
   "id": "regular-investor",
   "metadata": {},
   "source": [
    "1.\n",
    "Question 1\n",
    "Given a list of filenames, we want to rename all the files with extension hpp to the extension h. To do this, we would like to generate a new list called newfilenames, consisting of the new filenames. Fill in the blanks in the code using any of the methods you’ve learned thus far, like a for loop or a list comprehension.\n"
   ]
  },
  {
   "cell_type": "code",
   "execution_count": 245,
   "id": "dutch-cancer",
   "metadata": {},
   "outputs": [
    {
     "name": "stdout",
     "output_type": "stream",
     "text": [
      "['program.c', 'stdio.h', 'sample.h', 'a.out', 'math.h', 'hpp.out']\n"
     ]
    }
   ],
   "source": [
    "filenames = [\"program.c\", \"stdio.hpp\", \"sample.hpp\", \"a.out\", \"math.hpp\", \"hpp.out\"]\n",
    "# Generate newfilenames as a list containing the new filenames\n",
    "# using as many lines of code as your chosen method requires.\n",
    "newfilenames = []\n",
    "for x in filenames:\n",
    "    x = x.replace(\".hpp\",\".h\")\n",
    "    newfilenames.append(x)\n",
    "\n",
    "print(newfilenames) \n",
    "# Should be [\"program.c\", \"stdio.h\", \"sample.h\", \"a.out\", \"math.h\", \"hpp.out\"]"
   ]
  },
  {
   "cell_type": "raw",
   "id": "minimal-lightweight",
   "metadata": {},
   "source": [
    "Question 2\n",
    "Let's create a function that turns text into pig latin: a simple text transformation that modifies each word moving the first character to the end and appending \"ay\" to the end. For example, python ends up as ythonpay."
   ]
  },
  {
   "cell_type": "code",
   "execution_count": 290,
   "id": "western-enhancement",
   "metadata": {},
   "outputs": [
    {
     "ename": "TypeError",
     "evalue": "can only concatenate list (not \"str\") to list",
     "output_type": "error",
     "traceback": [
      "\u001b[1;31m---------------------------------------------------------------------------\u001b[0m",
      "\u001b[1;31mTypeError\u001b[0m                                 Traceback (most recent call last)",
      "\u001b[1;32m<ipython-input-290-d8d48c93e1f1>\u001b[0m in \u001b[0;36m<module>\u001b[1;34m()\u001b[0m\n\u001b[0;32m      1\u001b[0m \u001b[0mlis\u001b[0m \u001b[1;33m=\u001b[0m \u001b[1;34m\"hello is a boy\"\u001b[0m\u001b[1;33m\u001b[0m\u001b[0m\n\u001b[0;32m      2\u001b[0m \u001b[0ml\u001b[0m \u001b[1;33m=\u001b[0m \u001b[0mlis\u001b[0m\u001b[1;33m.\u001b[0m\u001b[0msplit\u001b[0m\u001b[1;33m(\u001b[0m\u001b[1;33m)\u001b[0m\u001b[1;33m\u001b[0m\u001b[0m\n\u001b[1;32m----> 3\u001b[1;33m \u001b[0ml\u001b[0m \u001b[1;33m=\u001b[0m \u001b[0ml\u001b[0m\u001b[1;33m[\u001b[0m\u001b[1;36m1\u001b[0m\u001b[1;33m:\u001b[0m\u001b[1;33m]\u001b[0m \u001b[1;33m+\u001b[0m \u001b[0ml\u001b[0m\u001b[1;33m[\u001b[0m\u001b[1;36m0\u001b[0m\u001b[1;33m]\u001b[0m \u001b[1;33m+\u001b[0m \u001b[1;34m\"ay\"\u001b[0m\u001b[1;33m\u001b[0m\u001b[0m\n\u001b[0m",
      "\u001b[1;31mTypeError\u001b[0m: can only concatenate list (not \"str\") to list"
     ]
    }
   ],
   "source": [
    "lis = \"hello is a boy\"\n",
    "l = lis.split()\n",
    "l = l[1:] + l[0] + \"ay\""
   ]
  },
  {
   "cell_type": "code",
   "execution_count": 298,
   "id": "focal-carrier",
   "metadata": {},
   "outputs": [
    {
     "name": "stdout",
     "output_type": "stream",
     "text": [
      "hello\n",
      "how\n",
      "are\n",
      "you\n",
      "ellohay owhay reaay ouyay\n",
      "programming\n",
      "in\n",
      "python\n",
      "is\n",
      "fun\n",
      "rogrammingpay niay ythonpay siay unfay\n"
     ]
    }
   ],
   "source": [
    "def pig_latin(text):\n",
    "  say = []\n",
    "  # Separate the text into words\n",
    "  words = text.split()\n",
    "  for word in words:\n",
    "    print(word)\n",
    "    # Create the pig latin word and add it to the list\n",
    "    word = word[1:]+word[0]+\"ay\"\n",
    "    say.append(word)\n",
    "    # Turn the list back into a phrase\n",
    "  return \" \".join(say)\n",
    "\t\t\n",
    "print(pig_latin(\"hello how are you\")) # Should be \"ellohay owhay reaay ouyay\"\n",
    "print(pig_latin(\"programming in python is fun\")) # Should be \"rogrammingpay niay ythonpay siay unfay\""
   ]
  },
  {
   "cell_type": "raw",
   "id": "completed-bridge",
   "metadata": {},
   "source": [
    "The permissions of a file in a Linux system are split into three sets of three permissions: read, write, and execute for the owner, group, and others. Each of the three values can be expressed as an octal number summing each permission, with 4 corresponding to read, 2 to write, and 1 to execute. Or it can be written with a string using the letters r, w, and x or - when the permission is not granted.\n",
    "For example: \n",
    "640 is read/write for the owner, read for the group, and no permissions for the others; converted to a string, it would be: \"rw-r-----\"\n",
    "755 is read/write/execute for the owner, and read/execute for group and others; converted to a string, it would be: \"rwxr-xr-x\"\n",
    "Fill in the blanks to make the code convert a permission in octal format into a string format."
   ]
  },
  {
   "cell_type": "code",
   "execution_count": 309,
   "id": "hazardous-membership",
   "metadata": {},
   "outputs": [
    {
     "name": "stdout",
     "output_type": "stream",
     "text": [
      "7\n",
      "4 r\n",
      "r\n",
      "2 w\n",
      "rw\n",
      "1 x\n",
      "rwx\n",
      "5\n",
      "4 r\n",
      "rwxr\n",
      "2 w\n",
      "1 x\n",
      "rwxr-x\n",
      "5\n",
      "4 r\n",
      "rwxr-xr\n",
      "2 w\n",
      "1 x\n",
      "rwxr-xr-x\n",
      "rwxr-xr-x\n",
      "6\n",
      "4 r\n",
      "r\n",
      "2 w\n",
      "rw\n",
      "1 x\n",
      "4\n",
      "4 r\n",
      "rw-r\n",
      "2 w\n",
      "1 x\n",
      "4\n",
      "4 r\n",
      "rw-r--r\n",
      "2 w\n",
      "1 x\n",
      "rw-r--r--\n",
      "7\n",
      "4 r\n",
      "r\n",
      "2 w\n",
      "rw\n",
      "1 x\n",
      "rwx\n",
      "5\n",
      "4 r\n",
      "rwxr\n",
      "2 w\n",
      "1 x\n",
      "rwxr-x\n",
      "0\n",
      "4 r\n",
      "2 w\n",
      "1 x\n",
      "rwxr-x---\n",
      "6\n",
      "4 r\n",
      "r\n",
      "2 w\n",
      "rw\n",
      "1 x\n",
      "0\n",
      "4 r\n",
      "2 w\n",
      "1 x\n",
      "0\n",
      "4 r\n",
      "2 w\n",
      "1 x\n",
      "rw-------\n"
     ]
    }
   ],
   "source": [
    "def octal_to_string(octal):\n",
    "    result = \"\"\n",
    "    value_letters = [(4,\"r\"),(2,\"w\"),(1,\"x\")]\n",
    "    # Iterate over each of the digits in octal\n",
    "    for x in [int(n) for n in str(octal)]:\n",
    "        print(x)\n",
    "        # Check for each of the permissions values\n",
    "        for value, letter in value_letters:\n",
    "            print(value, letter)\n",
    "            if x >= value:\n",
    "                result += letter\n",
    "                print(result)\n",
    "                x -= value\n",
    "            else:\n",
    "                result += \"-\"\n",
    "    return result\n",
    "    \n",
    "print(octal_to_string(755)) # Should be rwxr-xr-x\n",
    "print(octal_to_string(644)) # Should be rw-r--r--\n",
    "print(octal_to_string(750)) # Should be rwxr-x---\n",
    "print(octal_to_string(600)) # Should be rw-------"
   ]
  },
  {
   "cell_type": "raw",
   "id": "gross-retrieval",
   "metadata": {},
   "source": [
    "Question 5\n",
    "The group_list function accepts a group name and a list of members, and returns a string with the format: group_name: member1, member2, … For example, group_list(\"g\", [\"a\",\"b\",\"c\"]) returns \"g: a, b, c\". Fill in the gaps in this function to do that."
   ]
  },
  {
   "cell_type": "code",
   "execution_count": 346,
   "id": "noble-questionnaire",
   "metadata": {},
   "outputs": [
    {
     "name": "stdout",
     "output_type": "stream",
     "text": [
      "Marketing: Mike,Karen,Jake,Tasha\n",
      "Engineering: Kim,Jay,Tom\n",
      "Users: \n"
     ]
    }
   ],
   "source": [
    "def group_list(group, users):\n",
    "  members = \",\".join(users)\n",
    "  return group+\": \"+members\n",
    "\n",
    "print(group_list(\"Marketing\", [\"Mike\", \"Karen\", \"Jake\", \"Tasha\"])) # Should be \"Marketing: Mike, Karen, Jake, Tasha\"\n",
    "print(group_list(\"Engineering\", [\"Kim\", \"Jay\", \"Tom\"])) # Should be \"Engineering: Kim, Jay, Tom\"\n",
    "print(group_list(\"Users\", \"\")) # Should be \"Users:\""
   ]
  },
  {
   "cell_type": "raw",
   "id": "random-copying",
   "metadata": {},
   "source": [
    "Question 6\n",
    "The guest_list function reads in a list of tuples with the name, age, and profession of each party guest, and prints the sentence \"Guest is X years old and works as __.\" for each one. For example, guest_list(('Ken', 30, \"Chef\"), (\"Pat\", 35, 'Lawyer'), ('Amanda', 25, \"Engineer\")) should print out: Ken is 30 years old and works as Chef. Pat is 35 years old and works as Lawyer. Amanda is 25 years old and works as Engineer. Fill in the gaps in this function to do that. "
   ]
  },
  {
   "cell_type": "code",
   "execution_count": 356,
   "id": "changed-quest",
   "metadata": {},
   "outputs": [
    {
     "name": "stdout",
     "output_type": "stream",
     "text": [
      "Ken 30 Chef\n",
      "Ken  is  30  and works as  Chef\n",
      "Pat 35 Lawyer\n",
      "Pat  is  35  and works as  Lawyer\n",
      "Amanda 25 Engineer\n",
      "Amanda  is  25  and works as  Engineer\n"
     ]
    }
   ],
   "source": [
    "guests = ([('Ken', 30, \"Chef\"), (\"Pat\", 35, 'Lawyer'), ('Amanda', 25, \"Engineer\")])\n",
    "for x,y,z in guests:\n",
    "    print(x,y,z)\n",
    "    print(x,\" is \",y, \" and works as \",z)"
   ]
  },
  {
   "cell_type": "code",
   "execution_count": 363,
   "id": "extraordinary-morris",
   "metadata": {},
   "outputs": [
    {
     "name": "stdout",
     "output_type": "stream",
     "text": [
      "Ken is 30 old and works as Chef\n",
      "Pat is 35 old and works as Lawyer\n",
      "Amanda is 25 old and works as Engineer\n"
     ]
    },
    {
     "data": {
      "text/plain": [
       "'\\nOutput should match:\\nKen is 30 years old and works as Chef\\nPat is 35 years old and works as Lawyer\\nAmanda is 25 years old and works as Engineer\\n'"
      ]
     },
     "execution_count": 363,
     "metadata": {},
     "output_type": "execute_result"
    }
   ],
   "source": [
    "def guest_list(guests):\n",
    "\tfor guest in guests:\n",
    "\t\tx,y,z = guest\n",
    "\t\tprint(\"{} is {} old and works as {}\".format(x,y,z))\n",
    "\n",
    "guest_list([('Ken', 30, \"Chef\"), (\"Pat\", 35, 'Lawyer'), ('Amanda', 25, \"Engineer\")])\n",
    "\n",
    "#Click Run to submit code\n",
    "\"\"\"\n",
    "Output should match:\n",
    "Ken is 30 years old and works as Chef\n",
    "Pat is 35 years old and works as Lawyer\n",
    "Amanda is 25 years old and works as Engineer\n",
    "\"\"\""
   ]
  },
  {
   "cell_type": "code",
   "execution_count": 359,
   "id": "sought-completion",
   "metadata": {},
   "outputs": [
    {
     "name": "stdout",
     "output_type": "stream",
     "text": [
      "Ken is 30 old and works as Chef\n",
      "Pat is 35 old and works as Lawyer\n",
      "Amanda is 25 old and works as Engineer\n"
     ]
    }
   ],
   "source": [
    "def guest_list(guests):\n",
    "\tfor name,age,profession in guests:\n",
    "\t\t\n",
    "\t\tprint(\"{} is {} old and works as {}\".format(name,age,profession))\n",
    "\n",
    "guest_list([('Ken', 30, \"Chef\"), (\"Pat\", 35, 'Lawyer'), ('Amanda', 25, \"Engineer\")])"
   ]
  },
  {
   "cell_type": "code",
   "execution_count": 365,
   "id": "subsequent-shock",
   "metadata": {},
   "outputs": [
    {
     "data": {
      "text/plain": [
       "dict"
      ]
     },
     "execution_count": 365,
     "metadata": {},
     "output_type": "execute_result"
    }
   ],
   "source": [
    "#dictionary\n",
    "x = {}\n",
    "type(x)"
   ]
  },
  {
   "cell_type": "code",
   "execution_count": 366,
   "id": "adopted-energy",
   "metadata": {},
   "outputs": [
    {
     "name": "stdout",
     "output_type": "stream",
     "text": [
      "{'jpg': 10, 'txt': 14, 'csv': 2, 'py': 23}\n"
     ]
    }
   ],
   "source": [
    "file_count = {\"jpg\":10, \"txt\":14, \"csv\":2, \"py\":23}\n",
    "print(file_count)"
   ]
  },
  {
   "cell_type": "code",
   "execution_count": 369,
   "id": "pretty-miracle",
   "metadata": {},
   "outputs": [
    {
     "name": "stdout",
     "output_type": "stream",
     "text": [
      "14\n",
      "True\n"
     ]
    }
   ],
   "source": [
    "print(file_count[\"txt\"])\n",
    "print(\"jpg\" in file_count)"
   ]
  },
  {
   "cell_type": "code",
   "execution_count": 370,
   "id": "systematic-battery",
   "metadata": {},
   "outputs": [
    {
     "name": "stdout",
     "output_type": "stream",
     "text": [
      "{'jpg': 10, 'txt': 14, 'csv': 2, 'py': 23, 'cfg': 8}\n"
     ]
    }
   ],
   "source": [
    "file_count[\"cfg\"] = 8\n",
    "print(file_count)"
   ]
  },
  {
   "cell_type": "code",
   "execution_count": 371,
   "id": "lucky-attraction",
   "metadata": {},
   "outputs": [
    {
     "name": "stdout",
     "output_type": "stream",
     "text": [
      "{'jpg': 10, 'txt': 14, 'csv': 10, 'py': 23, 'cfg': 8}\n"
     ]
    }
   ],
   "source": [
    "file_count[\"csv\"] = 10\n",
    "print(file_count)"
   ]
  },
  {
   "cell_type": "code",
   "execution_count": 372,
   "id": "final-module",
   "metadata": {},
   "outputs": [
    {
     "name": "stdout",
     "output_type": "stream",
     "text": [
      "{'jpg': 10, 'txt': 14, 'csv': 10, 'py': 23}\n"
     ]
    }
   ],
   "source": [
    "del file_count[\"cfg\"]\n",
    "print(file_count)"
   ]
  },
  {
   "cell_type": "code",
   "execution_count": 373,
   "id": "rising-bookmark",
   "metadata": {},
   "outputs": [
    {
     "name": "stdout",
     "output_type": "stream",
     "text": [
      "jpg\n",
      "txt\n",
      "csv\n",
      "py\n"
     ]
    }
   ],
   "source": [
    "for extension in file_count:\n",
    "    print(extension)"
   ]
  },
  {
   "cell_type": "code",
   "execution_count": 374,
   "id": "reliable-arctic",
   "metadata": {},
   "outputs": [
    {
     "name": "stdout",
     "output_type": "stream",
     "text": [
      "There are 10 files with the .jpg extension\n",
      "There are 14 files with the .txt extension\n",
      "There are 10 files with the .csv extension\n",
      "There are 23 files with the .py extension\n"
     ]
    }
   ],
   "source": [
    "for ext, amount in file_count.items():\n",
    "    print(\"There are {} files with the .{} extension\".format(amount, ext))"
   ]
  },
  {
   "cell_type": "code",
   "execution_count": 378,
   "id": "three-hierarchy",
   "metadata": {},
   "outputs": [
    {
     "name": "stdout",
     "output_type": "stream",
     "text": [
      "dict_keys(['jpg', 'txt', 'csv', 'py'])\n",
      "dict_values([10, 14, 10, 23])\n"
     ]
    }
   ],
   "source": [
    "print(file_count.keys())\n",
    "print(file_count.values())"
   ]
  },
  {
   "cell_type": "code",
   "execution_count": 380,
   "id": "hidden-pavilion",
   "metadata": {},
   "outputs": [
    {
     "name": "stdout",
     "output_type": "stream",
     "text": [
      "10\n",
      "14\n",
      "10\n",
      "23\n"
     ]
    }
   ],
   "source": [
    "for value in file_count.values():\n",
    "    print(value)"
   ]
  },
  {
   "cell_type": "code",
   "execution_count": 389,
   "id": "wireless-gallery",
   "metadata": {},
   "outputs": [],
   "source": [
    "def count_letters(text):\n",
    "    result = {}\n",
    "    for letter in text:\n",
    "        if letter not in result:\n",
    "            result[letter] = 0\n",
    "        result[letter] += 1\n",
    "    return result"
   ]
  },
  {
   "cell_type": "code",
   "execution_count": 390,
   "id": "allied-provision",
   "metadata": {},
   "outputs": [
    {
     "data": {
      "text/plain": [
       "{'g': 1, 'o': 4, 'a': 1, 'l': 1}"
      ]
     },
     "execution_count": 390,
     "metadata": {},
     "output_type": "execute_result"
    }
   ],
   "source": [
    "count_letters(\"gooooal\")"
   ]
  },
  {
   "cell_type": "code",
   "execution_count": 392,
   "id": "proprietary-clearance",
   "metadata": {},
   "outputs": [
    {
     "data": {
      "text/plain": [
       "{'t': 2, 'e': 2, 'n': 1}"
      ]
     },
     "execution_count": 392,
     "metadata": {},
     "output_type": "execute_result"
    }
   ],
   "source": [
    "count_letters(\"tenet\")"
   ]
  },
  {
   "cell_type": "raw",
   "id": "muslim-insert",
   "metadata": {},
   "source": [
    "Question 1\n",
    "The email_list function receives a dictionary, which contains domain names as keys, and a list of users as values. Fill in the blanks to generate a list that contains complete email addresses (e.g. diana.prince@gmail.com)"
   ]
  },
  {
   "cell_type": "code",
   "execution_count": 424,
   "id": "golden-platform",
   "metadata": {},
   "outputs": [
    {
     "name": "stdout",
     "output_type": "stream",
     "text": [
      "['clark.kent@gmail.com', 'diana.prince@gmail.com', 'peter.parker@gmail.com', 'barbara.gordon@yahoo.com', 'jean.grey@yahoo.com', 'bruce.wayne@hotmail.com']\n"
     ]
    }
   ],
   "source": [
    "def email_list(domains):\n",
    "\temails = []\n",
    "\tfor domain, users in domains.items():\n",
    "\t  for user in users:\n",
    "\t    emails.append(user+'@'+domain)\n",
    "\treturn(emails)\n",
    "\n",
    "print(email_list({\"gmail.com\": [\"clark.kent\", \"diana.prince\", \"peter.parker\"], \"yahoo.com\": [\"barbara.gordon\", \"jean.grey\"], \"hotmail.com\": [\"bruce.wayne\"]}))"
   ]
  },
  {
   "cell_type": "code",
   "execution_count": 423,
   "id": "framed-sodium",
   "metadata": {},
   "outputs": [
    {
     "name": "stdout",
     "output_type": "stream",
     "text": [
      "['clark.kent@gmail.com', 'diana.prince@gmail.com', 'peter.parker@gmail.com']\n"
     ]
    }
   ],
   "source": [
    "v = {\"gmail.com\": [\"clark.kent\", \"diana.prince\", \"peter.parker\"]}\n",
    "email = []\n",
    "for domain, users in v.items():\n",
    "    for user in users:\n",
    "        #print(user)\n",
    "        email.append(user+'@'+domain)\n",
    "print(email)\n",
    "        "
   ]
  },
  {
   "cell_type": "raw",
   "id": "outdoor-aerospace",
   "metadata": {},
   "source": [
    "Question 2\n",
    "The groups_per_user function receives a dictionary, which contains group names with the list of users. Users can belong to multiple groups. Fill in the blanks to return a dictionary with the users as keys and a list of their groups as values. \n",
    "\n"
   ]
  },
  {
   "cell_type": "code",
   "execution_count": 440,
   "id": "disciplinary-accounting",
   "metadata": {},
   "outputs": [
    {
     "name": "stdout",
     "output_type": "stream",
     "text": [
      "{'admin': ['local', 'public', 'administrator'], 'userA': ['local'], 'userB': ['public']}\n"
     ]
    }
   ],
   "source": [
    "def groups_per_user(group_dictionary):\n",
    "\tuser_groups = {}\n",
    "\t# Go through group_dictionary\n",
    "\tfor grp, users in group_dictionary.items():\n",
    "\t\t# Now go through the users in the group\n",
    "\t\tfor user in users:\n",
    "\t\t\tuser_groups[user] = user_groups.get(user,[]) + [grp]\n",
    "            \n",
    "\t\t\t# Now add the group to the the list of\n",
    "# groups for this user, creating the entry\n",
    "# in the dictionary if necessary\n",
    "\n",
    "\treturn(user_groups)\n",
    "\n",
    "print(groups_per_user({\"local\": [\"admin\", \"userA\"],\n",
    "\t\t\"public\":  [\"admin\", \"userB\"],\n",
    "\t\t\"administrator\": [\"admin\"] }))"
   ]
  },
  {
   "cell_type": "raw",
   "id": "scheduled-flood",
   "metadata": {},
   "source": [
    "Question 3\n",
    "The dict.update method updates one dictionary with the items coming from the other dictionary, so that existing entries are replaced and new entries are added. What is the content of the dictionary “wardrobe“ at the end of the following code?\n",
    "\n"
   ]
  },
  {
   "cell_type": "code",
   "execution_count": 442,
   "id": "aggressive-prince",
   "metadata": {},
   "outputs": [
    {
     "data": {
      "text/plain": [
       "{'shirt': ['red', 'blue', 'white'],\n",
       " 'jeans': ['white'],\n",
       " 'scarf': ['yellow'],\n",
       " 'socks': ['black', 'brown']}"
      ]
     },
     "execution_count": 442,
     "metadata": {},
     "output_type": "execute_result"
    }
   ],
   "source": [
    "wardrobe = {'shirt': ['red', 'blue', 'white'], 'jeans': ['blue', 'black']}\n",
    "new_items = {'jeans': ['white'], 'scarf': ['yellow'], 'socks': ['black', 'brown']}\n",
    "wardrobe.update(new_items)\n",
    "wardrobe"
   ]
  },
  {
   "cell_type": "raw",
   "id": "veterinary-ukraine",
   "metadata": {},
   "source": [
    "The add_prices function returns the total price of all of the groceries in the  dictionary. Fill in the blanks to complete this function."
   ]
  },
  {
   "cell_type": "code",
   "execution_count": 450,
   "id": "overhead-murder",
   "metadata": {},
   "outputs": [
    {
     "name": "stdout",
     "output_type": "stream",
     "text": [
      "28.44\n"
     ]
    }
   ],
   "source": [
    "def add_prices(basket):\n",
    "\t# Initialize the variable that will be used for the calculation\n",
    "\ttotal = 0\n",
    "\t# Iterate through the dictionary items\n",
    "\tfor value in basket.values():\n",
    "\t\t# Add each price to the total calculation\n",
    "\t\t# Hint: how do you access the values of\n",
    "\t\t# dictionary items?\n",
    "\t\ttotal += value\n",
    "\t# Limit the return value to 2 decimal places\n",
    "\treturn round(total, 2)  \n",
    "\n",
    "groceries = {\"bananas\": 1.56, \"apples\": 2.50, \"oranges\": 0.99, \"bread\": 4.59, \n",
    "\t\"coffee\": 6.99, \"milk\": 3.39, \"eggs\": 2.98, \"cheese\": 5.44}\n",
    "\n",
    "print(add_prices(groceries)) # Should print 28.44\n"
   ]
  },
  {
   "cell_type": "code",
   "execution_count": 448,
   "id": "invalid-philip",
   "metadata": {},
   "outputs": [
    {
     "name": "stdout",
     "output_type": "stream",
     "text": [
      "28.440000000000005\n"
     ]
    }
   ],
   "source": [
    "groceries = {\"bananas\": 1.56, \"apples\": 2.50, \"oranges\": 0.99, \"bread\": 4.59, \"coffee\": 6.99, \n",
    "             \"milk\": 3.39, \"eggs\": 2.98, \"cheese\": 5.44}\n",
    "total = 0\n",
    "for value in groceries.values():\n",
    "    \n",
    "    total += value\n",
    "print(total)"
   ]
  },
  {
   "cell_type": "code",
   "execution_count": null,
   "id": "smoking-homework",
   "metadata": {},
   "outputs": [],
   "source": []
  },
  {
   "cell_type": "raw",
   "id": "arabic-twelve",
   "metadata": {},
   "source": [
    "Question 1\n",
    "\n",
    "The format_address function separates out parts of the address string into new strings: house_number and street_name, and returns: \"house number X on street named Y\". The format of the input string is: numeric house number, followed by the street name which may contain numbers, but never by themselves, and could be several words long. For example, \"123 Main Street\", \"1001 1st Ave\", or \"55 North Center Drive\". Fill in the gaps to complete this function."
   ]
  },
  {
   "cell_type": "code",
   "execution_count": 455,
   "id": "southeast-collector",
   "metadata": {},
   "outputs": [
    {
     "name": "stdout",
     "output_type": "stream",
     "text": [
      "123\n",
      "Main\n",
      "Street\n"
     ]
    }
   ],
   "source": [
    "d = (\"123 Main Street\")\n",
    "d = d.split()\n",
    "for x in d:\n",
    "    print(x)"
   ]
  },
  {
   "cell_type": "code",
   "execution_count": 564,
   "id": "developed-germany",
   "metadata": {},
   "outputs": [
    {
     "name": "stdout",
     "output_type": "stream",
     "text": [
      "house number 123 on street named  Main Street\n",
      "house number 1001 on street named  1st Ave\n",
      "house number 55 on street named  North Center Drive\n"
     ]
    }
   ],
   "source": [
    "def format_address(address_string):\n",
    "  # Declare variables\n",
    "  house_number = \"\"\n",
    "  street_name = \"\"\n",
    "  # Separate the address string into parts\n",
    "  address = address_string.strip()\n",
    "  address = address.split()\n",
    "  \n",
    "  # Traverse through the address parts\n",
    "  for x in address:\n",
    "    # Determine if the address part is the\n",
    "    # house number or part of the street name\n",
    "    if x.isdigit():\n",
    "        house_number += x\n",
    "    else:\n",
    "        street_name += \" \"+ x\n",
    "  # Does anything else need to be done \n",
    "  # before returning the result?\n",
    "  \n",
    "  # Return the formatted string  \n",
    "  return \"house number {} on street named {}\".format(house_number, street_name)\n",
    "\n",
    "print(format_address(\"123 Main Street\"))\n",
    "# Should print: \"house number 123 on street named Main Street\"\n",
    "\n",
    "print(format_address(\"1001 1st Ave\"))\n",
    "# Should print: \"house number 1001 on street named 1st Ave\"\n",
    "\n",
    "print(format_address(\"55 North Center Drive\"))\n",
    "# Should print \"house number 55 on street named North Center Drive\"\n"
   ]
  },
  {
   "cell_type": "code",
   "execution_count": null,
   "id": "correct-wrist",
   "metadata": {},
   "outputs": [],
   "source": []
  },
  {
   "cell_type": "raw",
   "id": "unnecessary-cornell",
   "metadata": {},
   "source": [
    "The highlight_word function changes the given word in a sentence to its upper-case version. For example, highlight_word(\"Have a nice day\", \"nice\") returns \"Have a NICE day\". Can you write this function in just one line?"
   ]
  },
  {
   "cell_type": "code",
   "execution_count": 469,
   "id": "disciplinary-protocol",
   "metadata": {},
   "outputs": [
    {
     "name": "stdout",
     "output_type": "stream",
     "text": [
      "Have a NICE day\n",
      "Shhh, don't be so LOUD!\n",
      "Automating with Python is FUN\n"
     ]
    }
   ],
   "source": [
    "def highlight_word(sentence, word):\n",
    "\treturn sentence.replace(word, str.upper(word))\n",
    "\n",
    "print(highlight_word(\"Have a nice day\", \"nice\"))\n",
    "print(highlight_word(\"Shhh, don't be so loud!\", \"loud\"))\n",
    "print(highlight_word(\"Automating with Python is fun\", \"fun\"))\n"
   ]
  },
  {
   "cell_type": "code",
   "execution_count": 468,
   "id": "distinct-repository",
   "metadata": {},
   "outputs": [
    {
     "data": {
      "text/plain": [
       "'Have a NICE day'"
      ]
     },
     "execution_count": 468,
     "metadata": {},
     "output_type": "execute_result"
    }
   ],
   "source": [
    "a = \"nice\"\n",
    "x = \"Have a nice day\"\n",
    "x.replace(a,str.upper(a))"
   ]
  },
  {
   "cell_type": "raw",
   "id": "ranging-business",
   "metadata": {},
   "source": [
    "Question 3\n",
    "A professor with two assistants, Jamie and Drew, wants an attendance list of the students, in the order that they arrived in the classroom. Drew was the first one to note which students arrived, and then Jamie took over. After the class, they each entered their lists into the computer and emailed them to the professor, who needs to combine them into one, in the order of each student's arrival. Jamie emailed a follow-up, saying that her list is in reverse order. Complete the steps to combine them into one list as follows: the contents of Drew's list, followed by Jamie's list in reverse order, to get an accurate list of the students as they arrived.\n",
    "\n",
    "\n"
   ]
  },
  {
   "cell_type": "code",
   "execution_count": 497,
   "id": "egyptian-archives",
   "metadata": {},
   "outputs": [
    {
     "name": "stdout",
     "output_type": "stream",
     "text": [
      "['Mike', 'Carol', 'Greg', 'Marcia', 'Peter', 'Jan', 'Bobby', 'Cindy', 'Alice']\n"
     ]
    }
   ],
   "source": [
    "def combine_lists(list1, list2):\n",
    "  # Generate a new list containing the elements of list2\n",
    "  # Followed by the elements of list1 in reverse order\n",
    "   l = []\n",
    "   for x in list2:\n",
    "        l.append(x)\n",
    "   list1 = list1[::-1]\n",
    "   for c in list1:\n",
    "        l.append(c)\n",
    "   return l\n",
    "  \n",
    "\t\n",
    "Jamies_list = [\"Alice\", \"Cindy\", \"Bobby\", \"Jan\", \"Peter\"]\n",
    "Drews_list = [\"Mike\", \"Carol\", \"Greg\", \"Marcia\"]\n",
    "\n",
    "print(combine_lists(Jamies_list, Drews_list))\n"
   ]
  },
  {
   "cell_type": "code",
   "execution_count": 496,
   "id": "excellent-computer",
   "metadata": {},
   "outputs": [
    {
     "data": {
      "text/plain": [
       "['Mike', 'Carol', 'Greg', 'Marcia', 'Peter', 'Jan', 'Bobby', 'Cindy', 'Alice']"
      ]
     },
     "execution_count": 496,
     "metadata": {},
     "output_type": "execute_result"
    }
   ],
   "source": [
    "Jamies_list = [\"Alice\", \"Cindy\", \"Bobby\", \"Jan\", \"Peter\"]\n",
    "Drews_list = [\"Mike\", \"Carol\", \"Greg\", \"Marcia\"]\n",
    "l = []\n",
    "for x in Drews_list:\n",
    "    l.append(x)\n",
    "\n",
    "j = Jamies_list[::-1]\n",
    "for c in j:\n",
    "    l.append(c)\n",
    "\n",
    "l\n",
    "\n",
    "\n"
   ]
  },
  {
   "cell_type": "raw",
   "id": "missing-fireplace",
   "metadata": {},
   "source": [
    "Use a list comprehension to create a list of squared numbers (n*n). The function receives the variables start and end, and returns a list of squares of consecutive numbers between start and end inclusively.\n",
    "For example, squares(2, 3) should return [4, 9]."
   ]
  },
  {
   "cell_type": "code",
   "execution_count": 554,
   "id": "confirmed-sullivan",
   "metadata": {},
   "outputs": [
    {
     "name": "stdout",
     "output_type": "stream",
     "text": [
      "[4, 9]\n",
      "[1, 4, 9, 16, 25]\n",
      "[0, 1, 4, 9, 16, 25, 36, 49, 64, 81, 100]\n"
     ]
    }
   ],
   "source": [
    "def squares(start, end):\n",
    "\treturn [x*x for x in range(start, end+1) ]\n",
    "\n",
    "print(squares(2, 3)) # Should be [4, 9]\n",
    "print(squares(1, 5)) # Should be [1, 4, 9, 16, 25]\n",
    "print(squares(0, 10)) # Should be [0, 1, 4, 9, 16, 25, 36, 49, 64, 81, 100]"
   ]
  },
  {
   "cell_type": "code",
   "execution_count": 500,
   "id": "velvet-shanghai",
   "metadata": {},
   "outputs": [
    {
     "name": "stdout",
     "output_type": "stream",
     "text": [
      "4\n",
      "9\n"
     ]
    }
   ],
   "source": [
    "for x in (2,3):\n",
    "    x = x*x\n",
    "    print(x)"
   ]
  },
  {
   "cell_type": "raw",
   "id": "resident-venue",
   "metadata": {},
   "source": [
    "Complete the code to iterate through the keys and values of the car_prices dictionary, printing out some information about each one."
   ]
  },
  {
   "cell_type": "code",
   "execution_count": 504,
   "id": "considered-tamil",
   "metadata": {},
   "outputs": [
    {
     "name": "stdout",
     "output_type": "stream",
     "text": [
      "Kia Soul costs 19000 dollars\n",
      "Lamborghini Diablo costs 55000 dollars\n",
      "Ford Fiesta costs 13000 dollars\n",
      "Toyota Prius costs 24000 dollars\n",
      "\n"
     ]
    }
   ],
   "source": [
    "def car_listing(car_prices):\n",
    "  result = \"\"\n",
    "  for model,price in car_prices.items():\n",
    "    result += \"{} costs {} dollars\".format(model,price)+ \"\\n\"\n",
    "  return result\n",
    "\n",
    "print(car_listing({\"Kia Soul\":19000, \"Lamborghini Diablo\":55000, \"Ford Fiesta\":13000, \"Toyota Prius\":24000}))"
   ]
  },
  {
   "cell_type": "raw",
   "id": "israeli-pencil",
   "metadata": {},
   "source": [
    "Question 6\n",
    "Taylor and Rory are hosting a party. They sent out invitations, and each one collected responses into dictionaries, with names of their friends and how many guests each friend is bringing. Each dictionary is a partial list, but Rory's list has more current information about the number of guests. Fill in the blanks to combine both dictionaries into one, with each friend listed only once, and the number of guests from Rory's dictionary taking precedence, if a name is included in both dictionaries. Then print the resulting dictionary."
   ]
  },
  {
   "cell_type": "code",
   "execution_count": 518,
   "id": "loved-villa",
   "metadata": {},
   "outputs": [
    {
     "name": "stdout",
     "output_type": "stream",
     "text": [
      "{'David': 1, 'Nancy': 1, 'Robert': 4, 'Adam': 2, 'Samantha': 3, 'Chris': 5, 'Brenda': 3, 'Jose': 3, 'Charlotte': 2, 'Terry': 1}\n"
     ]
    }
   ],
   "source": [
    "def combine_guests(guests1, guests2):\n",
    "    guests2.update(guests1)\n",
    "    return guests2\n",
    "        \n",
    "        \n",
    "  # Combine both dictionaries into one, with each key listed \n",
    "  # only once, and the value from guests1 taking precedence\n",
    "\n",
    "Rorys_guests = { \"Adam\":2, \"Brenda\":3, \"David\":1, \"Jose\":3, \"Charlotte\":2, \"Terry\":1, \"Robert\":4}\n",
    "Taylors_guests = { \"David\":4, \"Nancy\":1, \"Robert\":2, \"Adam\":1, \"Samantha\":3, \"Chris\":5}\n",
    "\n",
    "print(combine_guests(Rorys_guests, Taylors_guests))\n"
   ]
  },
  {
   "cell_type": "raw",
   "id": "japanese-separate",
   "metadata": {},
   "source": [
    "Use a dictionary to count the frequency of letters in the input string. Only letters should be counted, not blank spaces, numbers, or punctuation. Upper case should be considered the same as lower case. For example, count_letters(\"This is a sentence.\") should return {'t': 2, 'h': 1, 'i': 2, 's': 3, 'a': 1, 'e': 3, 'n': 2, 'c': 1}."
   ]
  },
  {
   "cell_type": "code",
   "execution_count": null,
   "id": "vocational-robin",
   "metadata": {},
   "outputs": [],
   "source": [
    " for letter in text:\n",
    "        if letter not in result:\n",
    "            result[letter] = 0\n",
    "        result[letter] += 1\n",
    "    return result"
   ]
  },
  {
   "cell_type": "code",
   "execution_count": 560,
   "id": "prime-complexity",
   "metadata": {
    "scrolled": true
   },
   "outputs": [
    {
     "name": "stdout",
     "output_type": "stream",
     "text": [
      "{'a': 2, 'b': 2, 'c': 2}\n",
      "{'m': 1, 'a': 1, 't': 1, 'h': 1, 'i': 1, 's': 1, 'f': 1, 'u': 1, 'n': 1}\n",
      "{'t': 2, 'h': 1, 'i': 2, 's': 3, 'a': 1, 'e': 3, 'n': 2, 'c': 1}\n"
     ]
    }
   ],
   "source": [
    "def count_letters(text):\n",
    "    result = {}\n",
    "    text = text.lower()\n",
    "  # Go through each letter in the text\n",
    "    for letter in text:\n",
    "        if letter.isalpha():\n",
    "            count = text.count(letter)\n",
    "    # Check if the letter needs to be counted or not\n",
    "    # Add or increment the value in the dictionary\n",
    "            result[letter] = count\n",
    "    return result\n",
    "\n",
    "print(count_letters(\"AaBbCc\"))\n",
    "# Should be {'a': 2, 'b': 2, 'c': 2}\n",
    "\n",
    "print(count_letters(\"Math is fun! 2+2=4\"))\n",
    "# Should be {'m': 1, 'a': 1, 't': 1, 'h': 1, 'i': 1, 's': 1, 'f': 1, 'u': 1, 'n': 1}\n",
    "\n",
    "print(count_letters(\"This is a sentence.\"))\n",
    "# Should be {'t': 2, 'h': 1, 'i': 2, 's': 3, 'a': 1, 'e': 3, 'n': 2, 'c': 1}"
   ]
  },
  {
   "cell_type": "code",
   "execution_count": 546,
   "id": "supreme-shaft",
   "metadata": {},
   "outputs": [],
   "source": [
    "def count_letters(text):\n",
    "    result = {}\n",
    "    for letter in text.lower():\n",
    "        if letter not in result:\n",
    "            result[letter] = 0\n",
    "        result[letter] += 1\n",
    "    return result"
   ]
  },
  {
   "cell_type": "code",
   "execution_count": 549,
   "id": "satisfactory-deficit",
   "metadata": {},
   "outputs": [
    {
     "name": "stdout",
     "output_type": "stream",
     "text": [
      "pop\n",
      "t\n",
      "us\n"
     ]
    }
   ],
   "source": [
    "animal = \"Hippopotamus\"\n",
    "print(animal[3:6])\n",
    "print(animal[-5])\n",
    "print(animal[10:])"
   ]
  },
  {
   "cell_type": "code",
   "execution_count": 551,
   "id": "express-green",
   "metadata": {},
   "outputs": [
    {
     "data": {
      "text/plain": [
       "['red', 'white', 'yellow', 'blue']"
      ]
     },
     "execution_count": 551,
     "metadata": {},
     "output_type": "execute_result"
    }
   ],
   "source": [
    "colors = [\"red\", \"white\", \"blue\"]\n",
    "colors.insert(2, \"yellow\")\n",
    "colors"
   ]
  },
  {
   "cell_type": "code",
   "execution_count": 552,
   "id": "external-classroom",
   "metadata": {},
   "outputs": [
    {
     "data": {
      "text/plain": [
       "dict_keys(['router', 'localhost', 'google'])"
      ]
     },
     "execution_count": 552,
     "metadata": {},
     "output_type": "execute_result"
    }
   ],
   "source": [
    "host_addresses = {\"router\": \"192.168.1.1\", \"localhost\": \"127.0.0.1\", \"google\": \"8.8.8.8\"}\n",
    "host_addresses.keys()"
   ]
  }
 ],
 "metadata": {
  "kernelspec": {
   "display_name": "Python 3",
   "language": "python",
   "name": "python3"
  },
  "language_info": {
   "codemirror_mode": {
    "name": "ipython",
    "version": 3
   },
   "file_extension": ".py",
   "mimetype": "text/x-python",
   "name": "python",
   "nbconvert_exporter": "python",
   "pygments_lexer": "ipython3",
   "version": "3.6.5"
  }
 },
 "nbformat": 4,
 "nbformat_minor": 5
}
